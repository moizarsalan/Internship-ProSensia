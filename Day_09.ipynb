{
  "nbformat": 4,
  "nbformat_minor": 0,
  "metadata": {
    "colab": {
      "provenance": [],
      "authorship_tag": "ABX9TyPOpljxWKwTrqISyEIg6BVT",
      "include_colab_link": true
    },
    "kernelspec": {
      "name": "python3",
      "display_name": "Python 3"
    },
    "language_info": {
      "name": "python"
    }
  },
  "cells": [
    {
      "cell_type": "markdown",
      "metadata": {
        "id": "view-in-github",
        "colab_type": "text"
      },
      "source": [
        "<a href=\"https://colab.research.google.com/github/moizarsalan/Internship-ProSensia/blob/main/Day_09.ipynb\" target=\"_parent\"><img src=\"https://colab.research.google.com/assets/colab-badge.svg\" alt=\"Open In Colab\"/></a>"
      ]
    },
    {
      "cell_type": "markdown",
      "source": [
        "# **Sum and Average**"
      ],
      "metadata": {
        "id": "yINqIBL8z7Yp"
      }
    },
    {
      "cell_type": "code",
      "execution_count": 2,
      "metadata": {
        "colab": {
          "base_uri": "https://localhost:8080/"
        },
        "id": "wQdDU3L-yZct",
        "outputId": "2e80f5ba-0944-4028-f315-fbe4a5bd1189"
      },
      "outputs": [
        {
          "output_type": "stream",
          "name": "stdout",
          "text": [
            "Enter a number (or write 'done' to 'finish'): 12\n",
            "Enter a number (or write 'done' to 'finish'): 12\n",
            "Enter a number (or write 'done' to 'finish'): done\n",
            "Sum: 24.0, Average: 12.0\n"
          ]
        }
      ],
      "source": [
        "def sum_and_avg():\n",
        "    total = 0\n",
        "    count = 0\n",
        "    while True:\n",
        "        inp = input(\"Enter a number (or write 'done' to 'finish'): \")\n",
        "        if inp == 'done':\n",
        "            break\n",
        "        try:\n",
        "            num = float(inp)\n",
        "            total += num\n",
        "            count += 1\n",
        "        except ValueError:\n",
        "            print(\"Invalid input. Please enter a number.\")\n",
        "    if count > 0:\n",
        "        avg = total / count\n",
        "        print(f\"Sum: {total}, Average: {avg}\")\n",
        "    else:\n",
        "        print(\"No numbers were entered.\")\n",
        "\n",
        "sum_and_avg()\n"
      ]
    },
    {
      "cell_type": "markdown",
      "source": [
        "# **Filtering Values**"
      ],
      "metadata": {
        "id": "D6VsmvHC0EUX"
      }
    },
    {
      "cell_type": "code",
      "source": [
        "def filter_vals(nums, thresh):\n",
        "    result = []\n",
        "    for n in nums:\n",
        "        if n > thresh:\n",
        "            result.append(n)\n",
        "    return result\n",
        "\n",
        "nums = [10, 25, 30, 5, 15, 40, 50]\n",
        "thresh = 20\n",
        "print(filter_vals(nums, thresh))"
      ],
      "metadata": {
        "colab": {
          "base_uri": "https://localhost:8080/"
        },
        "id": "FDR5ePNh0ZZT",
        "outputId": "3531db4a-cd2f-4a9e-a3bb-4bbf5cd89c78"
      },
      "execution_count": 3,
      "outputs": [
        {
          "output_type": "stream",
          "name": "stdout",
          "text": [
            "[25, 30, 40, 50]\n"
          ]
        }
      ]
    },
    {
      "cell_type": "markdown",
      "source": [
        "# **Finding the Largest and the Smallest**"
      ],
      "metadata": {
        "id": "aLpj04vb0fCL"
      }
    },
    {
      "cell_type": "code",
      "source": [
        "def find_min_max():\n",
        "    nums = []\n",
        "    while True:\n",
        "        inp = input(\"Enter a number (write 'done' to 'continue'): \")\n",
        "        if inp == 'done':\n",
        "            break\n",
        "        try:\n",
        "            num = int(inp)\n",
        "            nums.append(num)\n",
        "        except ValueError:\n",
        "            print(\"Invalid input. Please enter an integer.\")\n",
        "\n",
        "    if nums:\n",
        "        largest = nums[0]\n",
        "        for n in nums:\n",
        "            if n > largest:\n",
        "                largest = n\n",
        "\n",
        "        smallest = nums[0]\n",
        "        for n in nums:\n",
        "            if n < smallest:\n",
        "                smallest = n\n",
        "\n",
        "        print(f\"Largest: {largest}, Smallest: {smallest}\")\n",
        "    else:\n",
        "        print(\"No numbers were entered.\")\n",
        "\n",
        "find_min_max()\n"
      ],
      "metadata": {
        "colab": {
          "base_uri": "https://localhost:8080/"
        },
        "id": "Fnw5J9vx0kWy",
        "outputId": "ce593376-6836-4891-f53a-c60144b59abb"
      },
      "execution_count": 5,
      "outputs": [
        {
          "output_type": "stream",
          "name": "stdout",
          "text": [
            "Enter a number (write 'done' to 'continue'): 12\n",
            "Enter a number (write 'done' to 'continue'): 2\n",
            "Enter a number (write 'done' to 'continue'): 3\n",
            "Enter a number (write 'done' to 'continue'): 50\n",
            "Enter a number (write 'done' to 'continue'): done\n",
            "Largest: 50, Smallest: 2\n"
          ]
        }
      ]
    },
    {
      "cell_type": "markdown",
      "source": [
        "# **Removig Duplicates**"
      ],
      "metadata": {
        "id": "LhtmQmUV00gI"
      }
    },
    {
      "cell_type": "code",
      "source": [
        "def remove_dups(nums):\n",
        "    return list(set(nums))\n",
        "\n",
        "nums = [10, 25, 30, 10, 5, 15, 40, 50, 25]\n",
        "print(remove_dups(nums))\n"
      ],
      "metadata": {
        "colab": {
          "base_uri": "https://localhost:8080/"
        },
        "id": "Ejg8oETu04hh",
        "outputId": "87525c79-1d68-4eb1-9b65-0b4377f8d6ab"
      },
      "execution_count": 6,
      "outputs": [
        {
          "output_type": "stream",
          "name": "stdout",
          "text": [
            "[5, 40, 10, 15, 50, 25, 30]\n"
          ]
        }
      ]
    },
    {
      "cell_type": "markdown",
      "source": [
        "# **Break and Continue**"
      ],
      "metadata": {
        "id": "a-aPGyaj08Oo"
      }
    },
    {
      "cell_type": "code",
      "source": [
        "def read_lines():\n",
        "    while True:\n",
        "        line = input(\"Enter a line of text (or 'done' to finish): \")\n",
        "        if line == 'done':\n",
        "            break\n",
        "        if line.startswith('#'):\n",
        "            continue\n",
        "        print(line)\n",
        "\n",
        "read_lines()\n"
      ],
      "metadata": {
        "colab": {
          "base_uri": "https://localhost:8080/"
        },
        "id": "kGUn-Rq-1Bww",
        "outputId": "26d5d59c-77a6-4763-a71d-c4ae89ce26a2"
      },
      "execution_count": 8,
      "outputs": [
        {
          "name": "stdout",
          "output_type": "stream",
          "text": [
            "Enter a line of text (or 'done' to finish): My name is Abdul Moiz Arsalan\n",
            "My name is Abdul Moiz Arsalan\n",
            "Enter a line of text (or 'done' to finish): I am a student of BS AI\n",
            "I am a student of BS AI\n",
            "Enter a line of text (or 'done' to finish): done\n"
          ]
        }
      ]
    },
    {
      "cell_type": "markdown",
      "source": [
        "# **Infinite Loop Prevention**"
      ],
      "metadata": {
        "id": "Yy6lK5p71bUV"
      }
    },
    {
      "cell_type": "code",
      "source": [
        "def guess_num():\n",
        "    secret = 7\n",
        "    tries = 0\n",
        "    max_tries = 10\n",
        "    while tries < max_tries:\n",
        "        inp = input(\"Guess the number: \")\n",
        "        try:\n",
        "            guess = int(inp)\n",
        "            if guess == secret:\n",
        "                print(\"Correct! You've guessed the number.\")\n",
        "                break\n",
        "            else:\n",
        "                print(\"Incorrect. Try again.\")\n",
        "                tries += 1\n",
        "        except ValueError:\n",
        "            print(\"Invalid input. Please enter an integer.\")\n",
        "    else:\n",
        "        print(\"You've reached the maximum number of attempts.\")\n",
        "\n",
        "guess_num()\n"
      ],
      "metadata": {
        "colab": {
          "base_uri": "https://localhost:8080/"
        },
        "id": "hwv6-imn1X6n",
        "outputId": "0ff1f9de-5507-4971-81c8-8766a015cc37"
      },
      "execution_count": 9,
      "outputs": [
        {
          "output_type": "stream",
          "name": "stdout",
          "text": [
            "Guess the number: 12\n",
            "Incorrect. Try again.\n",
            "Guess the number: 7\n",
            "Correct! You've guessed the number.\n"
          ]
        }
      ]
    },
    {
      "cell_type": "markdown",
      "source": [
        "# **Sum of Squares**"
      ],
      "metadata": {
        "id": "U95BtSsI1lJP"
      }
    },
    {
      "cell_type": "code",
      "source": [
        "def sum_squares():\n",
        "    N = int(input(\"Enter a number: \"))\n",
        "    total = 0\n",
        "    for i in range(1, N + 1):\n",
        "        total += i ** 2\n",
        "    print(f\"Sum of squares of first {N} natural numbers: {total}\")\n",
        "\n",
        "sum_squares()\n"
      ],
      "metadata": {
        "colab": {
          "base_uri": "https://localhost:8080/"
        },
        "id": "tDRTdtTi1q6B",
        "outputId": "e800a96b-ddcc-469a-883a-33e0ad95d39e"
      },
      "execution_count": 10,
      "outputs": [
        {
          "output_type": "stream",
          "name": "stdout",
          "text": [
            "Enter a number: 12\n",
            "Sum of squares of first 12 natural numbers: 650\n"
          ]
        }
      ]
    },
    {
      "cell_type": "markdown",
      "source": [
        "# **Reverse A String**"
      ],
      "metadata": {
        "id": "ymifhkUt1wCd"
      }
    },
    {
      "cell_type": "code",
      "source": [
        "def reverse_str():\n",
        "    s = input(\"Enter a string: \")\n",
        "    rev = \"\"\n",
        "    for c in s:\n",
        "        rev = c + rev\n",
        "    print(f\"Reversed string: {rev}\")\n",
        "\n",
        "reverse_str()\n"
      ],
      "metadata": {
        "colab": {
          "base_uri": "https://localhost:8080/"
        },
        "id": "CDMm1Qe911M9",
        "outputId": "204de9d6-5379-444d-8af1-dcd906b20b89"
      },
      "execution_count": 11,
      "outputs": [
        {
          "output_type": "stream",
          "name": "stdout",
          "text": [
            "Enter a string: Abdul Moiz Arsalan\n",
            "Reversed string: nalasrA zioM ludbA\n"
          ]
        }
      ]
    },
    {
      "cell_type": "markdown",
      "source": [
        "# **Febonacci Sequence**"
      ],
      "metadata": {
        "id": "fUkLchj316iT"
      }
    },
    {
      "cell_type": "code",
      "source": [
        "def fibonacci_seq():\n",
        "    N = int(input(\"Enter the number of terms: \"))\n",
        "    a, b = 0, 1\n",
        "    for _ in range(N):\n",
        "        print(a, end=' ')\n",
        "        a, b = b, a + b\n",
        "\n",
        "fibonacci_seq()"
      ],
      "metadata": {
        "colab": {
          "base_uri": "https://localhost:8080/"
        },
        "id": "l7ydBf6U1_xo",
        "outputId": "bd07704b-72aa-423c-b864-aac8e2340898"
      },
      "execution_count": 12,
      "outputs": [
        {
          "output_type": "stream",
          "name": "stdout",
          "text": [
            "Enter the number of terms: 12\n",
            "0 1 1 2 3 5 8 13 21 34 55 89 "
          ]
        }
      ]
    }
  ]
}