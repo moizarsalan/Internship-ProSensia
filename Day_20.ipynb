{
  "nbformat": 4,
  "nbformat_minor": 0,
  "metadata": {
    "colab": {
      "provenance": [],
      "authorship_tag": "ABX9TyOX3RmmHjHcqJjkZHja3eC/",
      "include_colab_link": true
    },
    "kernelspec": {
      "name": "python3",
      "display_name": "Python 3"
    },
    "language_info": {
      "name": "python"
    }
  },
  "cells": [
    {
      "cell_type": "markdown",
      "metadata": {
        "id": "view-in-github",
        "colab_type": "text"
      },
      "source": [
        "<a href=\"https://colab.research.google.com/github/moizarsalan/Internship-ProSensia/blob/main/Day_20.ipynb\" target=\"_parent\"><img src=\"https://colab.research.google.com/assets/colab-badge.svg\" alt=\"Open In Colab\"/></a>"
      ]
    },
    {
      "cell_type": "markdown",
      "source": [
        "# **Text Base Quiz Game**\n",
        "\n",
        "Comment are added for easy understanding"
      ],
      "metadata": {
        "id": "qLdfatHiT0NI"
      }
    },
    {
      "cell_type": "code",
      "execution_count": 1,
      "metadata": {
        "colab": {
          "base_uri": "https://localhost:8080/"
        },
        "id": "NAEWKr6CTSuj",
        "outputId": "aba0f37c-3abe-42a9-c8e4-13dbeec5357a"
      },
      "outputs": [
        {
          "output_type": "stream",
          "name": "stdout",
          "text": [
            "What is the capital of Pakistan? Islamabad\n",
            "Correct!\n",
            "Who is the founder of Pakistan? Muhammad Ali Jinnah\n",
            "Correct!\n",
            "What is the national language of Pakistan? Urdu\n",
            "Correct!\n",
            "In which year did Pakistan gain independence? 1947\n",
            "Correct!\n",
            "What is the highest mountain in Pakistan? k2\n",
            "Correct!\n",
            "\n",
            "Your final score is 5/5\n"
          ]
        }
      ],
      "source": [
        "# Function to store and return the questions and their correct answers\n",
        "def get_qs():\n",
        "    qs = {\n",
        "        \"What is the capital of Pakistan?\": \"Islamabad\",\n",
        "        \"Who is the founder of Pakistan?\": \"Muhammad Ali Jinnah\",\n",
        "        \"What is the national language of Pakistan?\": \"Urdu\",\n",
        "        \"In which year did Pakistan gain independence?\": \"1947\",\n",
        "        \"What is the highest mountain in Pakistan?\": \"K2\"\n",
        "    }\n",
        "    return qs\n",
        "\n",
        "# Function to ask the user a question and check if the answer is correct\n",
        "def ask_q(q, ans):\n",
        "    user_ans = input(q + \" \")\n",
        "    if user_ans.strip().lower() == ans.strip().lower():\n",
        "        print(\"Correct!\")\n",
        "        return True\n",
        "    else:\n",
        "        print(f\"Incorrect! The correct answer is {ans}.\")\n",
        "        return False\n",
        "\n",
        "# Main function to run the game\n",
        "def main():\n",
        "    qs = get_qs()\n",
        "    sc = 0\n",
        "\n",
        "    # Iterating through the questions and asking the user\n",
        "    for q, ans in qs.items():\n",
        "        if ask_q(q, ans):\n",
        "            sc += 1\n",
        "\n",
        "    # Providing the final score\n",
        "    print(f\"\\nYour final score is {sc}/{len(qs)}\")\n",
        "\n",
        "# Running the main function\n",
        "if __name__ == \"__main__\":\n",
        "    main()\n"
      ]
    }
  ]
}