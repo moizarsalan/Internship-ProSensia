{
  "nbformat": 4,
  "nbformat_minor": 0,
  "metadata": {
    "colab": {
      "provenance": [],
      "authorship_tag": "ABX9TyMMjQvFn8CBmCaiw79mqaoC",
      "include_colab_link": true
    },
    "kernelspec": {
      "name": "python3",
      "display_name": "Python 3"
    },
    "language_info": {
      "name": "python"
    }
  },
  "cells": [
    {
      "cell_type": "markdown",
      "metadata": {
        "id": "view-in-github",
        "colab_type": "text"
      },
      "source": [
        "<a href=\"https://colab.research.google.com/github/moizarsalan/Internship-ProSensia/blob/main/Day_19.ipynb\" target=\"_parent\"><img src=\"https://colab.research.google.com/assets/colab-badge.svg\" alt=\"Open In Colab\"/></a>"
      ]
    },
    {
      "cell_type": "markdown",
      "source": [
        "# **Tuple Basic**"
      ],
      "metadata": {
        "id": "PwTtHcCu12A1"
      }
    },
    {
      "cell_type": "code",
      "execution_count": 2,
      "metadata": {
        "colab": {
          "base_uri": "https://localhost:8080/"
        },
        "id": "_4rvrDXC1pgZ",
        "outputId": "4b984359-82fc-427a-fbca-ca55a59cdbaf"
      },
      "outputs": [
        {
          "output_type": "stream",
          "name": "stdout",
          "text": [
            "Bob\n"
          ]
        }
      ],
      "source": [
        "people = ('Alice', 'Bob', 'Charlie')\n",
        "print(people[1])"
      ]
    },
    {
      "cell_type": "markdown",
      "source": [
        "# **Tuple and Max Funation**"
      ],
      "metadata": {
        "id": "dgWbXYSO16pX"
      }
    },
    {
      "cell_type": "code",
      "source": [
        "def max_in_tuple(t):\n",
        "    return max(t)\n",
        "\n",
        "numbers = (4, 7, 1)\n",
        "print(max_in_tuple(numbers))"
      ],
      "metadata": {
        "colab": {
          "base_uri": "https://localhost:8080/"
        },
        "id": "FPA_MgVn1_CR",
        "outputId": "38ccc339-6ce5-4cdc-dd21-0a5a78813ac7"
      },
      "execution_count": 1,
      "outputs": [
        {
          "output_type": "stream",
          "name": "stdout",
          "text": [
            "7\n"
          ]
        }
      ]
    },
    {
      "cell_type": "markdown",
      "source": [
        "# **Immutable Property**"
      ],
      "metadata": {
        "id": "4f0hSohs2Duc"
      }
    },
    {
      "cell_type": "code",
      "source": [
        "fruits = ('apple', 'banana', 'cherry')\n",
        "try:\n",
        "    fruits[1] = 'orange'\n",
        "except TypeError as e:\n",
        "    print(f\"Error: {e}\")"
      ],
      "metadata": {
        "colab": {
          "base_uri": "https://localhost:8080/"
        },
        "id": "oOK5e4Y12JLF",
        "outputId": "d60b07fa-82ff-4e74-c9ba-3f9efa25d19c"
      },
      "execution_count": 3,
      "outputs": [
        {
          "output_type": "stream",
          "name": "stdout",
          "text": [
            "Error: 'tuple' object does not support item assignment\n"
          ]
        }
      ]
    },
    {
      "cell_type": "markdown",
      "source": [
        "# **Tuple Operations**"
      ],
      "metadata": {
        "id": "VeBSvbZC2LkO"
      }
    },
    {
      "cell_type": "code",
      "source": [
        "my_list = [1, 2, 3]\n",
        "my_tuple = (1, 2, 3)\n",
        "\n",
        "my_list.append(4)\n",
        "print(my_list)\n",
        "\n",
        "try:\n",
        "    my_tuple.append(4)\n",
        "except AttributeError as e:\n",
        "    print(f\"Error: {e}\")"
      ],
      "metadata": {
        "colab": {
          "base_uri": "https://localhost:8080/"
        },
        "id": "qHFxXPD92PWb",
        "outputId": "7fa1cef6-ab1a-46fe-d136-1b73b6fe262e"
      },
      "execution_count": 4,
      "outputs": [
        {
          "output_type": "stream",
          "name": "stdout",
          "text": [
            "[1, 2, 3, 4]\n",
            "Error: 'tuple' object has no attribute 'append'\n"
          ]
        }
      ]
    },
    {
      "cell_type": "markdown",
      "source": [
        "# **Tuple Assignments**"
      ],
      "metadata": {
        "id": "qWWE3hTh2UR_"
      }
    },
    {
      "cell_type": "code",
      "source": [
        "def swap(a, b):\n",
        "    a, b = b, a\n",
        "    return a, b\n",
        "\n",
        "a = 5\n",
        "b = 10\n",
        "a, b = swap(a, b)\n",
        "print(a, b)"
      ],
      "metadata": {
        "colab": {
          "base_uri": "https://localhost:8080/"
        },
        "id": "yVFIuC9y2R47",
        "outputId": "42873142-f669-4442-beff-3e23dc8e6edf"
      },
      "execution_count": 5,
      "outputs": [
        {
          "output_type": "stream",
          "name": "stdout",
          "text": [
            "10 5\n"
          ]
        }
      ]
    },
    {
      "cell_type": "markdown",
      "source": [
        "# **Dictionary Tuple**"
      ],
      "metadata": {
        "id": "gaNWg1PF2hcp"
      }
    },
    {
      "cell_type": "code",
      "source": [
        "def dict_to_tuples(d):\n",
        "    return list(d.items())\n",
        "\n",
        "sample_dict = {'x': 1, 'y': 2, 'z': 3}\n",
        "print(dict_to_tuples(sample_dict))"
      ],
      "metadata": {
        "colab": {
          "base_uri": "https://localhost:8080/"
        },
        "id": "x6m8oOe32m8t",
        "outputId": "0af9d221-6775-4239-a037-2ee9c7056e1b"
      },
      "execution_count": 6,
      "outputs": [
        {
          "output_type": "stream",
          "name": "stdout",
          "text": [
            "[('x', 1), ('y', 2), ('z', 3)]\n"
          ]
        }
      ]
    },
    {
      "cell_type": "markdown",
      "source": [
        "# **Sorting Tuple**"
      ],
      "metadata": {
        "id": "t4i1EPQs2tR7"
      }
    },
    {
      "cell_type": "code",
      "source": [
        "def sort_dict_by_values(d):\n",
        "    return sorted(d.items(), key=lambda item: item[1], reverse=True)\n",
        "\n",
        "sample_dict = {'a': 10, 'b': 1, 'c': 22}\n",
        "print(sort_dict_by_values(sample_dict))"
      ],
      "metadata": {
        "colab": {
          "base_uri": "https://localhost:8080/"
        },
        "id": "cKOMlgRD2v1M",
        "outputId": "bb8ffccb-2a19-4d6d-e34c-97d5b86d1eb5"
      },
      "execution_count": 7,
      "outputs": [
        {
          "output_type": "stream",
          "name": "stdout",
          "text": [
            "[('c', 22), ('a', 10), ('b', 1)]\n"
          ]
        }
      ]
    },
    {
      "cell_type": "markdown",
      "source": [
        "# **Tuple Comparison**"
      ],
      "metadata": {
        "id": "7unbzwPo2yaE"
      }
    },
    {
      "cell_type": "code",
      "source": [
        "def compare_tuples(t1, t2):\n",
        "    return [a == b for a, b in zip(t1, t2)]\n",
        "\n",
        "tuple1 = (1, 2, 3)\n",
        "tuple2 = (3, 2, 1)\n",
        "print(compare_tuples(tuple1, tuple2))"
      ],
      "metadata": {
        "colab": {
          "base_uri": "https://localhost:8080/"
        },
        "id": "-ErllJtV22d8",
        "outputId": "a4a2f697-7b9f-40f3-de72-1274a0832e9c"
      },
      "execution_count": 8,
      "outputs": [
        {
          "output_type": "stream",
          "name": "stdout",
          "text": [
            "[False, True, False]\n"
          ]
        }
      ]
    },
    {
      "cell_type": "markdown",
      "source": [
        "# **Top N Frequent Words**"
      ],
      "metadata": {
        "id": "Qijhbfjo29GN"
      }
    },
    {
      "cell_type": "code",
      "source": [
        "from collections import Counter\n",
        "\n",
        "def top_n_words(text, n):\n",
        "    words = text.split()\n",
        "    word_count = Counter(words)\n",
        "    return word_count.most_common(n)\n",
        "\n",
        "text = \"this is a sample text with sample words this text is used to count words and find the most common word\"\n",
        "n = 3\n",
        "print(top_n_words(text, n))"
      ],
      "metadata": {
        "colab": {
          "base_uri": "https://localhost:8080/"
        },
        "id": "WNUYtglj3DS6",
        "outputId": "96631a20-2de3-417e-c216-1006a2654fcb"
      },
      "execution_count": 9,
      "outputs": [
        {
          "output_type": "stream",
          "name": "stdout",
          "text": [
            "[('this', 2), ('is', 2), ('sample', 2)]\n"
          ]
        }
      ]
    },
    {
      "cell_type": "markdown",
      "source": [
        "# **List Comparison With Tuple**"
      ],
      "metadata": {
        "id": "F8w0MQCy3Etc"
      }
    },
    {
      "cell_type": "code",
      "source": [
        "def reverse_dict(d):\n",
        "    return sorted([(v, k) for k, v in d.items()])\n",
        "\n",
        "sample_dict = {'a': 10, 'b': 1, 'c': 22}\n",
        "print(reverse_dict(sample_dict))"
      ],
      "metadata": {
        "colab": {
          "base_uri": "https://localhost:8080/"
        },
        "id": "YziOmp2E3JOg",
        "outputId": "eee9b377-aeed-4fc6-9034-e432a7d33304"
      },
      "execution_count": 10,
      "outputs": [
        {
          "output_type": "stream",
          "name": "stdout",
          "text": [
            "[(1, 'b'), (10, 'a'), (22, 'c')]\n"
          ]
        }
      ]
    }
  ]
}