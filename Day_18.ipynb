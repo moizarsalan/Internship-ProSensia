{
  "nbformat": 4,
  "nbformat_minor": 0,
  "metadata": {
    "colab": {
      "provenance": [],
      "authorship_tag": "ABX9TyMvXIF70WywQGyOnpTqgJ63",
      "include_colab_link": true
    },
    "kernelspec": {
      "name": "python3",
      "display_name": "Python 3"
    },
    "language_info": {
      "name": "python"
    }
  },
  "cells": [
    {
      "cell_type": "markdown",
      "metadata": {
        "id": "view-in-github",
        "colab_type": "text"
      },
      "source": [
        "<a href=\"https://colab.research.google.com/github/moizarsalan/Internship-ProSensia/blob/main/Day_18.ipynb\" target=\"_parent\"><img src=\"https://colab.research.google.com/assets/colab-badge.svg\" alt=\"Open In Colab\"/></a>"
      ]
    },
    {
      "cell_type": "markdown",
      "source": [
        "# **Creating a Dictionary**"
      ],
      "metadata": {
        "id": "6c0gJjmevBW7"
      }
    },
    {
      "cell_type": "code",
      "execution_count": 1,
      "metadata": {
        "colab": {
          "base_uri": "https://localhost:8080/"
        },
        "id": "6YV5V40oujp0",
        "outputId": "1ead0049-df40-4df6-cf94-2afe2ccabd59"
      },
      "outputs": [
        {
          "output_type": "stream",
          "name": "stdout",
          "text": [
            "{'key1': 'value1', 'key2': 'value2', 'key3': 'value3'}\n"
          ]
        }
      ],
      "source": [
        "dictionary = {}\n",
        "dictionary['key1'] = 'value1'\n",
        "dictionary['key2'] = 'value2'\n",
        "dictionary['key3'] = 'value3'\n",
        "print(dictionary)"
      ]
    },
    {
      "cell_type": "markdown",
      "source": [
        "# **Accessing Dictionary Values**"
      ],
      "metadata": {
        "id": "_q86a_m-vYhu"
      }
    },
    {
      "cell_type": "code",
      "source": [
        "def print_value(dictionary, key):\n",
        "    if key in dictionary:\n",
        "        print(dictionary[key])\n",
        "    else:\n",
        "        print(\"Key not found\")"
      ],
      "metadata": {
        "id": "hnccqPE-vcPk"
      },
      "execution_count": 5,
      "outputs": []
    },
    {
      "cell_type": "markdown",
      "source": [
        "# **Updating Dictionary Values**"
      ],
      "metadata": {
        "id": "kYptN9AUv0vV"
      }
    },
    {
      "cell_type": "code",
      "source": [
        "dictionary = {'key1': 'value1', 'key2': 'value2', 'key3': 'value3'}\n",
        "print(dictionary)\n",
        "dictionary['key2'] = 'updated_value2'\n",
        "print(dictionary)"
      ],
      "metadata": {
        "colab": {
          "base_uri": "https://localhost:8080/"
        },
        "id": "wPWZw8Ohv5qT",
        "outputId": "3c2dfcb6-0e07-43b0-9f19-20f8ebc0f1b3"
      },
      "execution_count": 6,
      "outputs": [
        {
          "output_type": "stream",
          "name": "stdout",
          "text": [
            "{'key1': 'value1', 'key2': 'value2', 'key3': 'value3'}\n",
            "{'key1': 'value1', 'key2': 'updated_value2', 'key3': 'value3'}\n"
          ]
        }
      ]
    },
    {
      "cell_type": "markdown",
      "source": [
        "# **Counting Word Occourence**"
      ],
      "metadata": {
        "id": "U7DK56QJv80y"
      }
    },
    {
      "cell_type": "code",
      "source": [
        "text = input(\"Enter a line of text: \")\n",
        "words = text.split()\n",
        "word_count = {}\n",
        "for word in words:\n",
        "    if word in word_count:\n",
        "        word_count[word] += 1\n",
        "    else:\n",
        "        word_count[word] = 1\n",
        "print(word_count)"
      ],
      "metadata": {
        "colab": {
          "base_uri": "https://localhost:8080/"
        },
        "id": "07Z6RdGtwCv6",
        "outputId": "36ff0ebb-9ab5-4cd5-a791-1a659bd7b6d1"
      },
      "execution_count": 7,
      "outputs": [
        {
          "output_type": "stream",
          "name": "stdout",
          "text": [
            "Enter a line of text: Abdul Moiz Arsalan Abdul Moiz\n",
            "{'Abdul': 2, 'Moiz': 2, 'Arsalan': 1}\n"
          ]
        }
      ]
    },
    {
      "cell_type": "markdown",
      "source": [
        "# **Retreiving Dicationary Keys and Values**"
      ],
      "metadata": {
        "id": "hupnHTKkwK4l"
      }
    },
    {
      "cell_type": "code",
      "source": [
        "def print_keys_values(dictionary):\n",
        "    print(list(dictionary.keys()))\n",
        "    print(list(dictionary.values()))\n",
        "print_keys_values(dictionary)"
      ],
      "metadata": {
        "colab": {
          "base_uri": "https://localhost:8080/"
        },
        "id": "eRTnkeVJwREA",
        "outputId": "22a35e0f-48dd-4e77-b9ff-315ac28a4aef"
      },
      "execution_count": 9,
      "outputs": [
        {
          "output_type": "stream",
          "name": "stdout",
          "text": [
            "['key1', 'key2', 'key3']\n",
            "['value1', 'updated_value2', 'value3']\n"
          ]
        }
      ]
    },
    {
      "cell_type": "markdown",
      "source": [
        "# **Dictionary Default Values**"
      ],
      "metadata": {
        "id": "P57JIbTvwWdl"
      }
    },
    {
      "cell_type": "code",
      "source": [
        "dictionary = {'key1': 'value1', 'key2': 'value2'}\n",
        "value = dictionary.get('key3', 0)\n",
        "print(value)"
      ],
      "metadata": {
        "colab": {
          "base_uri": "https://localhost:8080/"
        },
        "id": "G-5L6eLRwizC",
        "outputId": "389c33d4-27e1-4ec0-b548-a02f0b09487f"
      },
      "execution_count": 10,
      "outputs": [
        {
          "output_type": "stream",
          "name": "stdout",
          "text": [
            "0\n"
          ]
        }
      ]
    },
    {
      "cell_type": "markdown",
      "source": [
        "# **Nested Dictionary**"
      ],
      "metadata": {
        "id": "oC5JkjbGwoxb"
      }
    },
    {
      "cell_type": "code",
      "source": [
        "students = {\n",
        "    'student1': {'name': 'Alice', 'age': 20, 'grades': {'math': 90, 'science': 85}},\n",
        "    'student2': {'name': 'Bob', 'age': 22, 'grades': {'math': 75, 'science': 80}},\n",
        "    'student3': {'name': 'Charlie', 'age': 21, 'grades': {'math': 85, 'science': 95}}\n",
        "}\n",
        "print(students)"
      ],
      "metadata": {
        "colab": {
          "base_uri": "https://localhost:8080/"
        },
        "id": "mA754n9-wwyA",
        "outputId": "28815fd3-3d26-40ed-852f-46e84522ecf3"
      },
      "execution_count": 11,
      "outputs": [
        {
          "output_type": "stream",
          "name": "stdout",
          "text": [
            "{'student1': {'name': 'Alice', 'age': 20, 'grades': {'math': 90, 'science': 85}}, 'student2': {'name': 'Bob', 'age': 22, 'grades': {'math': 75, 'science': 80}}, 'student3': {'name': 'Charlie', 'age': 21, 'grades': {'math': 85, 'science': 95}}}\n"
          ]
        }
      ]
    },
    {
      "cell_type": "markdown",
      "source": [
        "# **Merging Dictionary**"
      ],
      "metadata": {
        "id": "ZoW0z3Ynw1ZL"
      }
    },
    {
      "cell_type": "code",
      "source": [
        "def merge_dictionaries(dict1, dict2):\n",
        "    result = dict1.copy()\n",
        "    result.update(dict2)\n",
        "    print(result)\n",
        "merge_dictionaries(dictionary, students)"
      ],
      "metadata": {
        "colab": {
          "base_uri": "https://localhost:8080/"
        },
        "id": "V7vNqf7uw_jQ",
        "outputId": "c4addc30-24de-4d80-ca54-fb1c14d5ace2"
      },
      "execution_count": 13,
      "outputs": [
        {
          "output_type": "stream",
          "name": "stdout",
          "text": [
            "{'key1': 'value1', 'key2': 'value2', 'student1': {'name': 'Alice', 'age': 20, 'grades': {'math': 90, 'science': 85}}, 'student2': {'name': 'Bob', 'age': 22, 'grades': {'math': 75, 'science': 80}}, 'student3': {'name': 'Charlie', 'age': 21, 'grades': {'math': 85, 'science': 95}}}\n"
          ]
        }
      ]
    },
    {
      "cell_type": "markdown",
      "source": [
        "# **Dictionary Tracebacks**"
      ],
      "metadata": {
        "id": "htnoVsAXxGzH"
      }
    },
    {
      "cell_type": "code",
      "source": [
        "dictionary = {'key1': 'value1'}\n",
        "try:\n",
        "    print(dictionary['key2'])\n",
        "except KeyError:\n",
        "    print(\"Custom error message: Key not found\")"
      ],
      "metadata": {
        "colab": {
          "base_uri": "https://localhost:8080/"
        },
        "id": "HhRxBbjgxNC-",
        "outputId": "11f084de-48b5-4e8b-ead3-f21d95b0ed0f"
      },
      "execution_count": 14,
      "outputs": [
        {
          "output_type": "stream",
          "name": "stdout",
          "text": [
            "Custom error message: Key not found\n"
          ]
        }
      ]
    },
    {
      "cell_type": "markdown",
      "source": [
        "# **Finding The most Common Word**"
      ],
      "metadata": {
        "id": "707HjEtDxOyW"
      }
    },
    {
      "cell_type": "code",
      "source": [
        "from collections import Counter\n",
        "\n",
        "text = \"This is a sample text with sample words. This text is used to count words and find the most common word.\"\n",
        "\n",
        "words = text.split()\n",
        "word_count = Counter(words)\n",
        "most_common_word, count = word_count.most_common(1)[0]\n",
        "print(most_common_word, count)\n"
      ],
      "metadata": {
        "colab": {
          "base_uri": "https://localhost:8080/"
        },
        "id": "UsQGdY2Ixsit",
        "outputId": "802091ea-ca7f-4f17-eeac-5be95bb15382"
      },
      "execution_count": 17,
      "outputs": [
        {
          "output_type": "stream",
          "name": "stdout",
          "text": [
            "This 2\n"
          ]
        }
      ]
    }
  ]
}