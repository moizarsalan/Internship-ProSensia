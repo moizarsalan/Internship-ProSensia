{
  "nbformat": 4,
  "nbformat_minor": 0,
  "metadata": {
    "colab": {
      "provenance": [],
      "authorship_tag": "ABX9TyMalsEcndQSKM/Vl/S1G6i5",
      "include_colab_link": true
    },
    "kernelspec": {
      "name": "python3",
      "display_name": "Python 3"
    },
    "language_info": {
      "name": "python"
    }
  },
  "cells": [
    {
      "cell_type": "markdown",
      "metadata": {
        "id": "view-in-github",
        "colab_type": "text"
      },
      "source": [
        "<a href=\"https://colab.research.google.com/github/moizarsalan/Internship-ProSensia/blob/main/Day_08.ipynb\" target=\"_parent\"><img src=\"https://colab.research.google.com/assets/colab-badge.svg\" alt=\"Open In Colab\"/></a>"
      ]
    },
    {
      "cell_type": "markdown",
      "source": [
        "# **Booleaon Expressions and Comparison Operator**"
      ],
      "metadata": {
        "id": "YfWL_TAXIPL4"
      }
    },
    {
      "cell_type": "code",
      "execution_count": 4,
      "metadata": {
        "colab": {
          "base_uri": "https://localhost:8080/"
        },
        "id": "GayeG3LEHGvv",
        "outputId": "a7287bae-f302-4896-ef73-55c46e3742cf"
      },
      "outputs": [
        {
          "output_type": "stream",
          "name": "stdout",
          "text": [
            "Enter an integer: 2\n",
            "Positive\n"
          ]
        }
      ],
      "source": [
        "try:\n",
        "\n",
        "    user_input = int(input(\"Enter an integer: \"))\n",
        "\n",
        "    if user_input > 0:\n",
        "        print(\"Positive\")\n",
        "    elif user_input < 0:\n",
        "        print(\"Negative\")\n",
        "    else:\n",
        "        print(\"Zero\")\n",
        "except ValueError:\n",
        "    print(\"Invalid input! Please enter a valid integer.\")\n"
      ]
    },
    {
      "cell_type": "markdown",
      "source": [
        "# **One Way Decision**"
      ],
      "metadata": {
        "id": "ORe9IWHFIYfM"
      }
    },
    {
      "cell_type": "code",
      "source": [
        "x = 5\n",
        "if x > 2:\n",
        "  print (\"Bigger than 2\")\n",
        "if x < 2:\n",
        "  print (\"Smaller than 2\")\n",
        "print (\"done\")"
      ],
      "metadata": {
        "colab": {
          "base_uri": "https://localhost:8080/"
        },
        "id": "KTCEf6djIlsr",
        "outputId": "9ac73087-599c-4dd6-cfbd-b6d34ca7a8f7"
      },
      "execution_count": 5,
      "outputs": [
        {
          "output_type": "stream",
          "name": "stdout",
          "text": [
            "Bigger than 2\n",
            "done\n"
          ]
        }
      ]
    },
    {
      "cell_type": "markdown",
      "source": [
        "# **One Way (2)**"
      ],
      "metadata": {
        "id": "VXie60h0I7_W"
      }
    },
    {
      "cell_type": "code",
      "source": [
        "num = float(input(\"Enter a number: \"))\n",
        "\n",
        "if num < 10:\n",
        "    print (\"Within Range\")\n",
        "\n",
        "# else:\n",
        "#     print (\"Outside Range\")\n",
        "print(\"\\nDone\")"
      ],
      "metadata": {
        "colab": {
          "base_uri": "https://localhost:8080/"
        },
        "id": "9ruj-rvqI_9o",
        "outputId": "effbdbae-b8d2-4a45-b20f-61c6c56151b5"
      },
      "execution_count": 12,
      "outputs": [
        {
          "output_type": "stream",
          "name": "stdout",
          "text": [
            "Enter a number: 11\n",
            "\n",
            "Done\n"
          ]
        }
      ]
    },
    {
      "cell_type": "markdown",
      "source": [
        "# **Two Way Decision**"
      ],
      "metadata": {
        "id": "pPChp1KOJ9_P"
      }
    },
    {
      "cell_type": "code",
      "source": [
        "x = 4\n",
        "if x > 2:\n",
        "  print (\"Bigger than 2\")\n",
        "\n",
        "elif  x == 2:\n",
        "  print (\"Equal to 2\")\n",
        "\n",
        "else:\n",
        "  print (\"Smaller than 2\")\n",
        "print (\"done\")"
      ],
      "metadata": {
        "colab": {
          "base_uri": "https://localhost:8080/"
        },
        "id": "RFc2UwvnKb3m",
        "outputId": "ff73f988-681e-49d2-8e80-e76af7387878"
      },
      "execution_count": 11,
      "outputs": [
        {
          "output_type": "stream",
          "name": "stdout",
          "text": [
            "Bigger than 2\n",
            "done\n"
          ]
        }
      ]
    },
    {
      "cell_type": "markdown",
      "source": [
        "# **Multiway Decision**"
      ],
      "metadata": {
        "id": "PFO-UZd-K83v"
      }
    },
    {
      "cell_type": "code",
      "source": [
        "n = int(input(\"Enter a number: \"))\n",
        "if n < 10:\n",
        "    print(\"smaller\")\n",
        "elif n <= 20:\n",
        "    print(\"bigger\")\n",
        "else:\n",
        "    print(\"greater\")\n"
      ],
      "metadata": {
        "colab": {
          "base_uri": "https://localhost:8080/"
        },
        "id": "ZMTFPdRoL2NH",
        "outputId": "508b24c6-ebc8-4f6c-c314-d7dca350ce14"
      },
      "execution_count": 16,
      "outputs": [
        {
          "output_type": "stream",
          "name": "stdout",
          "text": [
            "Enter a number: 21\n",
            "greater\n"
          ]
        }
      ]
    },
    {
      "cell_type": "markdown",
      "source": [
        "# **Try/Except Structure**"
      ],
      "metadata": {
        "id": "iBTDRjTFNrsK"
      }
    },
    {
      "cell_type": "code",
      "source": [
        "num = input(\"Enter a number: \")\n",
        "\n",
        "try:\n",
        "    num1 = int(num)\n",
        "    if num1 > 0:\n",
        "        print(\"Nice Work\")\n",
        "    else:\n",
        "        print(\"Not a number\")\n",
        "except ValueError:\n",
        "    print(\"Invalid input! Please enter a valid number.\")\n"
      ],
      "metadata": {
        "colab": {
          "base_uri": "https://localhost:8080/"
        },
        "id": "THe_xoFdNxaA",
        "outputId": "bafbee69-731a-4bcc-b56e-2b86997a912d"
      },
      "execution_count": 18,
      "outputs": [
        {
          "output_type": "stream",
          "name": "stdout",
          "text": [
            "Enter a number: a\n",
            "Invalid input! Please enter a valid number.\n"
          ]
        }
      ]
    },
    {
      "cell_type": "markdown",
      "source": [
        "# **Gross Pay**"
      ],
      "metadata": {
        "id": "wY0QBzI-QL5k"
      }
    },
    {
      "cell_type": "code",
      "source": [
        "h = float(input(\"Enter hours worked: \"))\n",
        "r = float(input(\"Enter hourly rate: \"))\n",
        "\n",
        "if h > 40:\n",
        "    ot = h - 40\n",
        "    otp = ot * r * 1.5\n",
        "    gp = (40 * r) + otp\n",
        "else:\n",
        "    gp = h * r\n",
        "\n",
        "print(\"Gross pay: Rs\", gp)\n"
      ],
      "metadata": {
        "colab": {
          "base_uri": "https://localhost:8080/"
        },
        "id": "gb3dnd0lQPLC",
        "outputId": "0453d018-c224-45bd-fdcb-b2dd3db1f2e3"
      },
      "execution_count": 20,
      "outputs": [
        {
          "output_type": "stream",
          "name": "stdout",
          "text": [
            "Enter hours worked: 12\n",
            "Enter hourly rate: 5\n",
            "Gross pay: Rs 60.0\n"
          ]
        }
      ]
    },
    {
      "cell_type": "markdown",
      "source": [
        "# **Logical Operators**"
      ],
      "metadata": {
        "id": "xAmDwFZfQcH_"
      }
    },
    {
      "cell_type": "code",
      "source": [
        "a = int(input(\"Enter first number: \"))\n",
        "b = int(input(\"Enter second number: \"))\n",
        "\n",
        "if a > 0 and b > 0:\n",
        "    print(\"Both are positive\")\n",
        "elif a > 0 or b > 0:\n",
        "    print(\"One is positive\")\n",
        "else:\n",
        "    print(\"None are positive\")\n"
      ],
      "metadata": {
        "colab": {
          "base_uri": "https://localhost:8080/"
        },
        "id": "HwzOfj_LQh9b",
        "outputId": "a89f338b-ad53-4136-cd31-6489fdfdd315"
      },
      "execution_count": 22,
      "outputs": [
        {
          "output_type": "stream",
          "name": "stdout",
          "text": [
            "Enter first number: 1\n",
            "Enter second number: -1\n",
            "One is positive\n"
          ]
        }
      ]
    },
    {
      "cell_type": "markdown",
      "source": [
        "# **Comparison Operator**"
      ],
      "metadata": {
        "id": "1_Mq68bAQvD9"
      }
    },
    {
      "cell_type": "code",
      "source": [
        "n = int(input(\"Enter a number: \"))\n",
        "\n",
        "if n > 0:\n",
        "    if n % 2 == 0:\n",
        "        print(\"Positive and even\")\n",
        "    else:\n",
        "        print(\"Positive but odd\")\n",
        "else:\n",
        "    print(\"Negative\")\n"
      ],
      "metadata": {
        "colab": {
          "base_uri": "https://localhost:8080/"
        },
        "id": "PjaOaWNaQyEV",
        "outputId": "b433e367-ab36-47d4-ff0c-260f52a87206"
      },
      "execution_count": 24,
      "outputs": [
        {
          "output_type": "stream",
          "name": "stdout",
          "text": [
            "Enter a number: 1\n",
            "Positive but odd\n"
          ]
        }
      ]
    }
  ]
}