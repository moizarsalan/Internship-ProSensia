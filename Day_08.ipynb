{
  "nbformat": 4,
  "nbformat_minor": 0,
  "metadata": {
    "colab": {
      "provenance": [],
      "authorship_tag": "ABX9TyMwhi4+HwJl8LPOaGLe9NAR",
      "include_colab_link": true
    },
    "kernelspec": {
      "name": "python3",
      "display_name": "Python 3"
    },
    "language_info": {
      "name": "python"
    }
  },
  "cells": [
    {
      "cell_type": "markdown",
      "metadata": {
        "id": "view-in-github",
        "colab_type": "text"
      },
      "source": [
        "<a href=\"https://colab.research.google.com/github/moizarsalan/Internship-ProSensia/blob/main/Day_08.ipynb\" target=\"_parent\"><img src=\"https://colab.research.google.com/assets/colab-badge.svg\" alt=\"Open In Colab\"/></a>"
      ]
    },
    {
      "cell_type": "markdown",
      "source": [
        "# **Task 01: Printing Greeting using functions**"
      ],
      "metadata": {
        "id": "323hhOC3i70x"
      }
    },
    {
      "cell_type": "code",
      "execution_count": 1,
      "metadata": {
        "colab": {
          "base_uri": "https://localhost:8080/"
        },
        "id": "apGFD51giQgo",
        "outputId": "1300ccdb-cdd4-421e-9648-7ae7f2c425e7"
      },
      "outputs": [
        {
          "output_type": "stream",
          "name": "stdout",
          "text": [
            "Hello, World!\n"
          ]
        }
      ],
      "source": [
        "def a():\n",
        "    print(\"Hello, World!\")\n",
        "\n",
        "a()"
      ]
    },
    {
      "cell_type": "markdown",
      "source": [
        "# **Task 02: Max Value Functions**"
      ],
      "metadata": {
        "id": "uTGSoPsTjMl5"
      }
    },
    {
      "cell_type": "code",
      "source": [
        "def b(c):\n",
        "    return max(c)\n",
        "\n",
        "print(b(\"Hello World\"))"
      ],
      "metadata": {
        "colab": {
          "base_uri": "https://localhost:8080/"
        },
        "id": "kjcg6qOIjUEM",
        "outputId": "87808d2f-8d01-4adc-8a43-2d32e0dbff61"
      },
      "execution_count": 2,
      "outputs": [
        {
          "output_type": "stream",
          "name": "stdout",
          "text": [
            "r\n"
          ]
        }
      ]
    },
    {
      "cell_type": "markdown",
      "source": [
        "# **Task 03: Convert to Float Function**"
      ],
      "metadata": {
        "id": "D_gYpGD5jeR-"
      }
    },
    {
      "cell_type": "code",
      "source": [
        "def d(e):\n",
        "    return float(e)\n",
        "\n",
        "print(d(42))"
      ],
      "metadata": {
        "colab": {
          "base_uri": "https://localhost:8080/"
        },
        "id": "Y_E6QbNUjmZY",
        "outputId": "f12728a9-a214-42f2-cf99-d5dcfb2f00e2"
      },
      "execution_count": 3,
      "outputs": [
        {
          "output_type": "stream",
          "name": "stdout",
          "text": [
            "42.0\n"
          ]
        }
      ]
    },
    {
      "cell_type": "markdown",
      "source": [
        "# **Task 04: Add numbers Functions**"
      ],
      "metadata": {
        "id": "6IGsrCQ6jq9m"
      }
    },
    {
      "cell_type": "code",
      "source": [
        "def f(g, h):\n",
        "    return g + h\n",
        "\n",
        "print(f(10, 20))"
      ],
      "metadata": {
        "colab": {
          "base_uri": "https://localhost:8080/"
        },
        "id": "nFNthlFijxFG",
        "outputId": "28b9450e-4d1a-48cf-a0db-24c56a3da9e8"
      },
      "execution_count": 4,
      "outputs": [
        {
          "output_type": "stream",
          "name": "stdout",
          "text": [
            "30\n"
          ]
        }
      ]
    },
    {
      "cell_type": "markdown",
      "source": [
        "# **Task 05: Greet Functions**"
      ],
      "metadata": {
        "id": "dlalX6wvj44u"
      }
    },
    {
      "cell_type": "code",
      "source": [
        "def i(j):\n",
        "    if j == 'en':\n",
        "        print(\"Hello\")\n",
        "    elif j == 'es':\n",
        "        print(\"Hola\")\n",
        "    elif j == 'fr':\n",
        "        print(\"Bonjour\")\n",
        "\n",
        "i('en')\n",
        "i('es')\n",
        "i('fr')"
      ],
      "metadata": {
        "colab": {
          "base_uri": "https://localhost:8080/"
        },
        "id": "ltbq3aoUj-r1",
        "outputId": "cc56f2bc-58c8-49df-cb94-437f668eda01"
      },
      "execution_count": 5,
      "outputs": [
        {
          "output_type": "stream",
          "name": "stdout",
          "text": [
            "Hello\n",
            "Hola\n",
            "Bonjour\n"
          ]
        }
      ]
    },
    {
      "cell_type": "markdown",
      "source": [
        "# **Task 06: Compute Pay Function**"
      ],
      "metadata": {
        "id": "eLnTKWUekEKf"
      }
    },
    {
      "cell_type": "code",
      "source": [
        "def k(l, m):\n",
        "    if l > 40:\n",
        "        return 40 * m + (l - 40) * 1.5 * m\n",
        "    else:\n",
        "        return l * m\n",
        "\n",
        "print(k(45, 10))"
      ],
      "metadata": {
        "colab": {
          "base_uri": "https://localhost:8080/"
        },
        "id": "nwmUIENUkKMI",
        "outputId": "306c1552-714b-47e1-d354-3c27d1eb1859"
      },
      "execution_count": 6,
      "outputs": [
        {
          "output_type": "stream",
          "name": "stdout",
          "text": [
            "475.0\n"
          ]
        }
      ]
    },
    {
      "cell_type": "markdown",
      "source": [
        "# **Task 07: Integer Functions**"
      ],
      "metadata": {
        "id": "TJItsbZLkNE3"
      }
    },
    {
      "cell_type": "code",
      "source": [
        "def n(o):\n",
        "    try:\n",
        "        int(o)\n",
        "        return True\n",
        "    except ValueError:\n",
        "        return False\n",
        "\n",
        "print(n(\"123\"))\n",
        "print(n(\"hello\"))"
      ],
      "metadata": {
        "colab": {
          "base_uri": "https://localhost:8080/"
        },
        "id": "EaeVN5JekS6P",
        "outputId": "461568f9-233f-4ab7-cf4a-70bbc533dbc3"
      },
      "execution_count": 7,
      "outputs": [
        {
          "output_type": "stream",
          "name": "stdout",
          "text": [
            "True\n",
            "False\n"
          ]
        }
      ]
    },
    {
      "cell_type": "markdown",
      "source": [
        "# **Task 08: Lyric Function**"
      ],
      "metadata": {
        "id": "65-EzERYkWBW"
      }
    },
    {
      "cell_type": "code",
      "source": [
        "def p():\n",
        "    print(\"Twinkle, twinkle, little star,\")\n",
        "    print(\"How I wonder what you are!\")\n",
        "    print(\"Up above the world so high,\")\n",
        "    print(\"Like a diamond in the sky.\")\n",
        "\n",
        "p()"
      ],
      "metadata": {
        "colab": {
          "base_uri": "https://localhost:8080/"
        },
        "id": "gKOwsfOTkdQN",
        "outputId": "25383531-caf1-4d16-dc60-a8d305119960"
      },
      "execution_count": 8,
      "outputs": [
        {
          "output_type": "stream",
          "name": "stdout",
          "text": [
            "Twinkle, twinkle, little star,\n",
            "How I wonder what you are!\n",
            "Up above the world so high,\n",
            "Like a diamond in the sky.\n"
          ]
        }
      ]
    },
    {
      "cell_type": "markdown",
      "source": [
        "# **Task 09: Multiple Numbers Function**"
      ],
      "metadata": {
        "id": "pHRi1IWpkgcM"
      }
    },
    {
      "cell_type": "code",
      "source": [
        "def q(r, s):\n",
        "    return r * s\n",
        "\n",
        "print(q(7, 8))"
      ],
      "metadata": {
        "colab": {
          "base_uri": "https://localhost:8080/"
        },
        "id": "Dm91veqIkoUY",
        "outputId": "8a0eae44-6d63-4504-f446-125e3070e9e8"
      },
      "execution_count": 9,
      "outputs": [
        {
          "output_type": "stream",
          "name": "stdout",
          "text": [
            "56\n"
          ]
        }
      ]
    },
    {
      "cell_type": "markdown",
      "source": [
        "# **Task 10: Calculate Expression Function**"
      ],
      "metadata": {
        "id": "TTd72K_gkrAm"
      }
    },
    {
      "cell_type": "code",
      "source": [
        "def t():\n",
        "    return 1 + 2 * float(3) / 4 - 5\n",
        "\n",
        "print(t())\n"
      ],
      "metadata": {
        "colab": {
          "base_uri": "https://localhost:8080/"
        },
        "id": "aoy-C59vk1Fk",
        "outputId": "036b0613-7b89-4b65-f3e6-850545bbc441"
      },
      "execution_count": 10,
      "outputs": [
        {
          "output_type": "stream",
          "name": "stdout",
          "text": [
            "-2.5\n"
          ]
        }
      ]
    }
  ]
}