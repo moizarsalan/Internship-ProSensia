{
  "nbformat": 4,
  "nbformat_minor": 0,
  "metadata": {
    "colab": {
      "provenance": [],
      "authorship_tag": "ABX9TyNw3x6ESDuR0z3pHSa4JcyQ",
      "include_colab_link": true
    },
    "kernelspec": {
      "name": "python3",
      "display_name": "Python 3"
    },
    "language_info": {
      "name": "python"
    }
  },
  "cells": [
    {
      "cell_type": "markdown",
      "metadata": {
        "id": "view-in-github",
        "colab_type": "text"
      },
      "source": [
        "<a href=\"https://colab.research.google.com/github/moizarsalan/Internship-ProSensia/blob/main/Day_12.ipynb\" target=\"_parent\"><img src=\"https://colab.research.google.com/assets/colab-badge.svg\" alt=\"Open In Colab\"/></a>"
      ]
    },
    {
      "cell_type": "markdown",
      "source": [
        "# **String and Integer with Fallback**"
      ],
      "metadata": {
        "id": "yNh1-F-A41D1"
      }
    },
    {
      "cell_type": "code",
      "execution_count": 1,
      "metadata": {
        "colab": {
          "base_uri": "https://localhost:8080/"
        },
        "id": "5KkvBXEI4kys",
        "outputId": "eccbfb13-c54c-484c-f0d2-d4a3bf1abd8e"
      },
      "outputs": [
        {
          "output_type": "stream",
          "name": "stdout",
          "text": [
            "123\n",
            "0\n"
          ]
        }
      ],
      "source": [
        "def str_to_int(s, default):\n",
        "    try:\n",
        "        return int(s)\n",
        "    except ValueError:\n",
        "        return default\n",
        "\n",
        "print(str_to_int(\"123\", 0))\n",
        "print(str_to_int(\"abc\", 0))\n"
      ]
    },
    {
      "cell_type": "markdown",
      "source": [
        "# **Integer to String with Formatting**"
      ],
      "metadata": {
        "id": "P9Iq9D595A5c"
      }
    },
    {
      "cell_type": "code",
      "source": [
        "def int_to_str(n, format_spec):\n",
        "    return format(n, format_spec)\n",
        "\n",
        "print(int_to_str(123, \"05d\"))\n",
        "print(int_to_str(123, \"e\"))"
      ],
      "metadata": {
        "colab": {
          "base_uri": "https://localhost:8080/"
        },
        "id": "oFhTsKlf5Fxx",
        "outputId": "fd61e34f-c922-4618-bfeb-deb8562cdbc9"
      },
      "execution_count": 2,
      "outputs": [
        {
          "output_type": "stream",
          "name": "stdout",
          "text": [
            "00123\n",
            "1.230000e+02\n"
          ]
        }
      ]
    },
    {
      "cell_type": "markdown",
      "source": [
        "# **Float to Integer with Multiple Rounding Options**"
      ],
      "metadata": {
        "id": "1oLkgsWO5Lis"
      }
    },
    {
      "cell_type": "code",
      "source": [
        "import math\n",
        "\n",
        "def float_to_int(f, strategy):\n",
        "    if strategy == \"up\":\n",
        "        return math.ceil(f)\n",
        "    elif strategy == \"down\":\n",
        "        return math.floor(f)\n",
        "    elif strategy == \"nearest\":\n",
        "        return round(f)\n",
        "    else:\n",
        "        raise ValueError(\"Invalid rounding strategy\")\n",
        "\n",
        "print(float_to_int(3.7, \"up\"))\n",
        "print(float_to_int(3.7, \"down\"))\n",
        "print(float_to_int(3.7, \"nearest\"))\n"
      ],
      "metadata": {
        "colab": {
          "base_uri": "https://localhost:8080/"
        },
        "id": "V5G_dKJv5S6x",
        "outputId": "5a23c2bf-6a83-4d50-bfa8-12d1089ed76c"
      },
      "execution_count": 3,
      "outputs": [
        {
          "output_type": "stream",
          "name": "stdout",
          "text": [
            "4\n",
            "3\n",
            "4\n"
          ]
        }
      ]
    },
    {
      "cell_type": "markdown",
      "source": [
        "# **List of String to list of Integers With Error logging**"
      ],
      "metadata": {
        "id": "RrA3KH4E5ZbE"
      }
    },
    {
      "cell_type": "code",
      "source": [
        "def strs_to_ints(lst):\n",
        "    ints = []\n",
        "    errors = []\n",
        "    for s in lst:\n",
        "        try:\n",
        "            ints.append(int(s))\n",
        "        except ValueError:\n",
        "            errors.append(s)\n",
        "    return ints, errors\n",
        "\n",
        "# Example usage:\n",
        "print(strs_to_ints([\"123\", \"abc\", \"456\"]))  # Output: ([123, 456], ['abc'])\n"
      ],
      "metadata": {
        "colab": {
          "base_uri": "https://localhost:8080/"
        },
        "id": "jhsrktCR5i1I",
        "outputId": "4f4de1e9-813d-4cad-8249-837323b58705"
      },
      "execution_count": 4,
      "outputs": [
        {
          "output_type": "stream",
          "name": "stdout",
          "text": [
            "([123, 456], ['abc'])\n"
          ]
        }
      ]
    },
    {
      "cell_type": "markdown",
      "source": [
        "# **Arithmatic Operation Tasks**"
      ],
      "metadata": {
        "id": "sx24wbLr5n-o"
      }
    },
    {
      "cell_type": "markdown",
      "source": [
        "# **Addition with Type Enforcement**"
      ],
      "metadata": {
        "id": "qxIVSDH55tg2"
      }
    },
    {
      "cell_type": "code",
      "source": [
        "def add_numbers(a, b):\n",
        "    if not isinstance(a, (int, float)) or not isinstance(b, (int, float)):\n",
        "        raise TypeError(\"Both inputs must be numbers\")\n",
        "    return a + b\n",
        "\n",
        "print(add_numbers(3, 5))"
      ],
      "metadata": {
        "id": "MhX6t4ih51Lu"
      },
      "execution_count": null,
      "outputs": []
    },
    {
      "cell_type": "markdown",
      "source": [
        "# **Commulative Subtraction with list Verification**"
      ],
      "metadata": {
        "id": "RIKpgQQ_56gg"
      }
    },
    {
      "cell_type": "code",
      "source": [
        "def cumulative_subtraction(lst):\n",
        "    if len(lst) < 2 or not all(isinstance(x, (int, float)) for x in lst):\n",
        "        raise ValueError(\"List must contain at least two numeric values\")\n",
        "    result = lst[0]\n",
        "    for num in lst[1:]:\n",
        "        result -= num\n",
        "    return result\n",
        "\n",
        "print(cumulative_subtraction([10, 3, 2]))\n"
      ],
      "metadata": {
        "colab": {
          "base_uri": "https://localhost:8080/"
        },
        "id": "huh2vFHT6BuT",
        "outputId": "6186fd23-725c-4d24-c4e0-6ad7bdad7ac3"
      },
      "execution_count": 5,
      "outputs": [
        {
          "output_type": "stream",
          "name": "stdout",
          "text": [
            "5\n"
          ]
        }
      ]
    },
    {
      "cell_type": "markdown",
      "source": [
        "# **Exponention Table**"
      ],
      "metadata": {
        "id": "856OQUwz6GF7"
      }
    },
    {
      "cell_type": "code",
      "source": [
        "def exponentiation_table(base, exp_range):\n",
        "    return [f\"{base}^{i} = {base**i}\" for i in range(1, exp_range + 1)]\n",
        "\n",
        "print(exponentiation_table(2, 5))"
      ],
      "metadata": {
        "colab": {
          "base_uri": "https://localhost:8080/"
        },
        "id": "0ImTIb5v6LuD",
        "outputId": "32ff9564-1563-4506-dbf5-e8812f01800b"
      },
      "execution_count": 6,
      "outputs": [
        {
          "output_type": "stream",
          "name": "stdout",
          "text": [
            "['2^1 = 2', '2^2 = 4', '2^3 = 8', '2^4 = 16', '2^5 = 32']\n"
          ]
        }
      ]
    },
    {
      "cell_type": "markdown",
      "source": [
        "# **Safe Division with Customer Handling**"
      ],
      "metadata": {
        "id": "R3rtr4Gd6QVH"
      }
    },
    {
      "cell_type": "code",
      "source": [
        "class DivisionByZeroError(Exception):\n",
        "    pass\n",
        "\n",
        "def safe_divide(a, b, precision):\n",
        "    if b == 0:\n",
        "        raise DivisionByZeroError(\"Cannot divide by zero\")\n",
        "    return round(a / b, precision)\n",
        "\n",
        "print(safe_divide(10, 3, 2))"
      ],
      "metadata": {
        "colab": {
          "base_uri": "https://localhost:8080/"
        },
        "id": "I-J2Qj2F6Va7",
        "outputId": "b45b6e83-e064-4d9d-c148-f273acc2f2a5"
      },
      "execution_count": 7,
      "outputs": [
        {
          "output_type": "stream",
          "name": "stdout",
          "text": [
            "3.33\n"
          ]
        }
      ]
    },
    {
      "cell_type": "markdown",
      "source": [
        "# **String Operations**\n",
        "\n",
        "# **Advanced String Split and Conditional Joint**"
      ],
      "metadata": {
        "id": "-Oxp7Ajm6cQU"
      }
    },
    {
      "cell_type": "code",
      "source": [
        "def split_and_join(s, split_delim, join_delim, condition_len=3):\n",
        "    parts = s.split(split_delim)\n",
        "    filtered_parts = [part for part in parts if len(part) > condition_len]\n",
        "    return join_delim.join(filtered_parts)\n",
        "\n",
        "print(split_and_join(\"apple,banana,pear,fig\", \",\", \"-\", 3))"
      ],
      "metadata": {
        "colab": {
          "base_uri": "https://localhost:8080/"
        },
        "id": "SHLURfGL6grh",
        "outputId": "751bb0d5-0601-4b23-92d2-8ac284148d26"
      },
      "execution_count": 8,
      "outputs": [
        {
          "output_type": "stream",
          "name": "stdout",
          "text": [
            "apple-banana-pear\n"
          ]
        }
      ]
    },
    {
      "cell_type": "markdown",
      "source": [
        "# **Enhanced Palindrome Check wit Character Frequency Analysis**"
      ],
      "metadata": {
        "id": "L6YScr_P6xEg"
      }
    },
    {
      "cell_type": "code",
      "source": [
        "import re\n",
        "from collections import Counter\n",
        "\n",
        "def palindrome_and_freq(s):\n",
        "    cleaned = re.sub(r'[^A-Za-z0-9]', '', s).lower()\n",
        "    is_palindrome = cleaned == cleaned[::-1]\n",
        "    freq = Counter(cleaned)\n",
        "    return is_palindrome, dict(freq)\n",
        "\n",
        "print(palindrome_and_freq(\"A man, a plan, a canal, Panama\"))"
      ],
      "metadata": {
        "colab": {
          "base_uri": "https://localhost:8080/"
        },
        "id": "ARn_FTvI6uSk",
        "outputId": "a25421af-2c7f-499b-8d25-0424b38f5182"
      },
      "execution_count": 9,
      "outputs": [
        {
          "output_type": "stream",
          "name": "stdout",
          "text": [
            "(True, {'a': 10, 'm': 2, 'n': 4, 'p': 2, 'l': 2, 'c': 1})\n"
          ]
        }
      ]
    }
  ]
}