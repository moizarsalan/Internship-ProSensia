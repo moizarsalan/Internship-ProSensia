{
  "nbformat": 4,
  "nbformat_minor": 0,
  "metadata": {
    "colab": {
      "provenance": [],
      "authorship_tag": "ABX9TyPzQhfozkZSOBFIKf5NvBdt",
      "include_colab_link": true
    },
    "kernelspec": {
      "name": "python3",
      "display_name": "Python 3"
    },
    "language_info": {
      "name": "python"
    }
  },
  "cells": [
    {
      "cell_type": "markdown",
      "metadata": {
        "id": "view-in-github",
        "colab_type": "text"
      },
      "source": [
        "<a href=\"https://colab.research.google.com/github/moizarsalan/Internship-ProSensia/blob/main/Day_10.ipynb\" target=\"_parent\"><img src=\"https://colab.research.google.com/assets/colab-badge.svg\" alt=\"Open In Colab\"/></a>"
      ]
    },
    {
      "cell_type": "markdown",
      "source": [
        "# **Concatenation and Conversion**"
      ],
      "metadata": {
        "id": "uic7Ie9c2bH8"
      }
    },
    {
      "cell_type": "code",
      "execution_count": 1,
      "metadata": {
        "colab": {
          "base_uri": "https://localhost:8080/"
        },
        "id": "wqt017Xm2Kz1",
        "outputId": "d16ff073-7167-4c5a-a796-b54a3ec4178b"
      },
      "outputs": [
        {
          "output_type": "stream",
          "name": "stdout",
          "text": [
            "123456\n",
            "abc123\n"
          ]
        }
      ],
      "source": [
        "def concat_and_convert(s1, s2):\n",
        "    result = s1 + s2\n",
        "    if result.isdigit():\n",
        "        return int(result)\n",
        "    else:\n",
        "        return result\n",
        "\n",
        "print(concat_and_convert(\"123\", \"456\"))\n",
        "print(concat_and_convert(\"abc\", \"123\"))"
      ]
    },
    {
      "cell_type": "markdown",
      "source": [
        "# **String Indexing**"
      ],
      "metadata": {
        "id": "ixDB9qiu2lEN"
      }
    },
    {
      "cell_type": "code",
      "source": [
        "def char_at_index(s, idx):\n",
        "    try:\n",
        "        return s[idx]\n",
        "    except IndexError:\n",
        "        return \"Index out of bounds\"\n",
        "\n",
        "# Example usage:\n",
        "print(char_at_index(\"hello\", 1))  # Output: e\n",
        "print(char_at_index(\"hello\", 10)) # Output: Index out of bounds"
      ],
      "metadata": {
        "colab": {
          "base_uri": "https://localhost:8080/"
        },
        "id": "YV6AK1YB2zKo",
        "outputId": "4d9159fa-459d-4240-ae2b-6c8cb63e498b"
      },
      "execution_count": 2,
      "outputs": [
        {
          "output_type": "stream",
          "name": "stdout",
          "text": [
            "e\n",
            "Index out of bounds\n"
          ]
        }
      ]
    },
    {
      "cell_type": "markdown",
      "source": [
        "# **String Length**"
      ],
      "metadata": {
        "id": "WyFR7Ql222aM"
      }
    },
    {
      "cell_type": "code",
      "source": [
        "def string_lengths(lst):\n",
        "    return [len(s) for s in lst]\n",
        "\n",
        "print(string_lengths([\"hello\", \"world\", \"Python\"]))"
      ],
      "metadata": {
        "colab": {
          "base_uri": "https://localhost:8080/"
        },
        "id": "MSs7AKKS271M",
        "outputId": "831d2619-4a84-46ba-9238-42167d7d4710"
      },
      "execution_count": 3,
      "outputs": [
        {
          "output_type": "stream",
          "name": "stdout",
          "text": [
            "[5, 5, 6]\n"
          ]
        }
      ]
    },
    {
      "cell_type": "markdown",
      "source": [
        "# **Looping Through Strings**"
      ],
      "metadata": {
        "id": "J4Wv2VyZ3BDn"
      }
    },
    {
      "cell_type": "code",
      "source": [
        "def print_chars(s):\n",
        "    for idx, char in enumerate(s):\n",
        "        print(f\"{idx}: {char}\")\n",
        "\n",
        "print_chars(\"hello\")\n",
        "# Output:\n",
        "# 0: h\n",
        "# 1: e\n",
        "# 2: l\n",
        "# 3: l\n",
        "# 4: o"
      ],
      "metadata": {
        "colab": {
          "base_uri": "https://localhost:8080/"
        },
        "id": "dUjsroNe3Ga8",
        "outputId": "299f7e30-0b0b-4e5b-e291-a42b8ec74fac"
      },
      "execution_count": 4,
      "outputs": [
        {
          "output_type": "stream",
          "name": "stdout",
          "text": [
            "0: h\n",
            "1: e\n",
            "2: l\n",
            "3: l\n",
            "4: o\n"
          ]
        }
      ]
    },
    {
      "cell_type": "markdown",
      "source": [
        "# **Character Counting**"
      ],
      "metadata": {
        "id": "zRH6CTpm3O0q"
      }
    },
    {
      "cell_type": "code",
      "source": [
        "def count_char(s, char):\n",
        "    return s.count(char)\n",
        "\n",
        "print(count_char(\"hello\", \"l\"))\n",
        "print(count_char(\"hello\", \"z\"))"
      ],
      "metadata": {
        "colab": {
          "base_uri": "https://localhost:8080/"
        },
        "id": "VsO0OC3I3Tgr",
        "outputId": "4a2d0c80-304c-45f4-8053-01323e900e28"
      },
      "execution_count": 5,
      "outputs": [
        {
          "output_type": "stream",
          "name": "stdout",
          "text": [
            "2\n",
            "0\n"
          ]
        }
      ]
    },
    {
      "cell_type": "markdown",
      "source": [
        "# **String Slicing**"
      ],
      "metadata": {
        "id": "h6Tqs-353Z3l"
      }
    },
    {
      "cell_type": "code",
      "source": [
        "def slice_string(s, start, end):\n",
        "    start = max(0, start)\n",
        "    end = min(len(s), end)\n",
        "    return s[start:end]\n",
        "\n",
        "print(slice_string(\"hello\", 1, 4))\n",
        "print(slice_string(\"hello\", -1, 10))"
      ],
      "metadata": {
        "colab": {
          "base_uri": "https://localhost:8080/"
        },
        "id": "PY0V1Y333ea-",
        "outputId": "788ac5df-fb52-492a-f0df-6b3a80361c52"
      },
      "execution_count": 6,
      "outputs": [
        {
          "output_type": "stream",
          "name": "stdout",
          "text": [
            "ell\n",
            "hello\n"
          ]
        }
      ]
    },
    {
      "cell_type": "markdown",
      "source": [
        "# **String Comparison**"
      ],
      "metadata": {
        "id": "0y4fIhte3l3Y"
      }
    },
    {
      "cell_type": "code",
      "source": [
        "def compare_strings(s1, s2):\n",
        "    if s1 < s2:\n",
        "        return \"First string comes before the second string.\"\n",
        "    elif s1 > s2:\n",
        "        return \"First string comes after the second string.\"\n",
        "    else:\n",
        "        return \"Both strings are equal.\"\n",
        "\n",
        "# Example usage:\n",
        "print(compare_strings(\"apple\", \"banana\"))\n",
        "print(compare_strings(\"grape\", \"banana\"))\n",
        "print(compare_strings(\"apple\", \"apple\"))\n"
      ],
      "metadata": {
        "colab": {
          "base_uri": "https://localhost:8080/"
        },
        "id": "fQOi2NmS3v69",
        "outputId": "ae58fb55-401f-4395-af53-a6d1682a41e9"
      },
      "execution_count": 7,
      "outputs": [
        {
          "output_type": "stream",
          "name": "stdout",
          "text": [
            "First string comes before the second string.\n",
            "First string comes after the second string.\n",
            "Both strings are equal.\n"
          ]
        }
      ]
    },
    {
      "cell_type": "markdown",
      "source": [
        "# **String Methods**"
      ],
      "metadata": {
        "id": "GTGIT1Cz33ll"
      }
    },
    {
      "cell_type": "code",
      "source": [
        "def string_methods(s):\n",
        "    return {\n",
        "        \"lowercase\": s.lower(),\n",
        "        \"uppercase\": s.upper(),\n",
        "        \"titlecase\": s.title()\n",
        "    }\n",
        "\n",
        "# Example usage:\n",
        "print(string_methods(\"Hello World\"))\n",
        "# Output: {'lowercase': 'hello world', 'uppercase': 'HELLO WORLD', 'titlecase': 'Hello World'}\n"
      ],
      "metadata": {
        "colab": {
          "base_uri": "https://localhost:8080/"
        },
        "id": "KcuM4Lap367g",
        "outputId": "e32ab792-f6cd-4750-f87f-8796cef4b289"
      },
      "execution_count": 8,
      "outputs": [
        {
          "output_type": "stream",
          "name": "stdout",
          "text": [
            "{'lowercase': 'hello world', 'uppercase': 'HELLO WORLD', 'titlecase': 'Hello World'}\n"
          ]
        }
      ]
    },
    {
      "cell_type": "markdown",
      "source": [
        "# **Search and Replace**"
      ],
      "metadata": {
        "id": "KwhrM3Iu3-8R"
      }
    },
    {
      "cell_type": "code",
      "source": [
        "def search_and_replace(s, search_term, replace_term):\n",
        "    return s.replace(search_term, replace_term)\n",
        "\n",
        "print(search_and_replace(\"hello world\", \"world\", \"Python\"))"
      ],
      "metadata": {
        "colab": {
          "base_uri": "https://localhost:8080/"
        },
        "id": "9PUfSHfp4E5I",
        "outputId": "6429c871-6f74-4b51-86c6-7de56bf2d16e"
      },
      "execution_count": 9,
      "outputs": [
        {
          "output_type": "stream",
          "name": "stdout",
          "text": [
            "hello Python\n"
          ]
        }
      ]
    },
    {
      "cell_type": "markdown",
      "source": [
        "# **Whitespace Removal**"
      ],
      "metadata": {
        "id": "qds2cx6g4LcD"
      }
    },
    {
      "cell_type": "code",
      "source": [
        "def remove_whitespace(s):\n",
        "    return ' '.join(s.split())\n",
        "\n",
        "print(remove_whitespace(\"  hello   world  \"))"
      ],
      "metadata": {
        "colab": {
          "base_uri": "https://localhost:8080/"
        },
        "id": "1GGyf5Ix4O5s",
        "outputId": "4c35b7fc-b152-4a8f-bfe2-bd6a7f28a353"
      },
      "execution_count": 10,
      "outputs": [
        {
          "output_type": "stream",
          "name": "stdout",
          "text": [
            "hello world\n"
          ]
        }
      ]
    }
  ]
}