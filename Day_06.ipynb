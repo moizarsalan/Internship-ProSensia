{
  "nbformat": 4,
  "nbformat_minor": 0,
  "metadata": {
    "colab": {
      "provenance": [],
      "authorship_tag": "ABX9TyNly+jA7zV1USYx1FNfWLSe",
      "include_colab_link": true
    },
    "kernelspec": {
      "name": "python3",
      "display_name": "Python 3"
    },
    "language_info": {
      "name": "python"
    }
  },
  "cells": [
    {
      "cell_type": "markdown",
      "metadata": {
        "id": "view-in-github",
        "colab_type": "text"
      },
      "source": [
        "<a href=\"https://colab.research.google.com/github/moizarsalan/Internship-ProSensia/blob/main/Day_06.ipynb\" target=\"_parent\"><img src=\"https://colab.research.google.com/assets/colab-badge.svg\" alt=\"Open In Colab\"/></a>"
      ]
    },
    {
      "cell_type": "markdown",
      "source": [
        "# **1. Gross Pay**"
      ],
      "metadata": {
        "id": "pWguIVd7h7fK"
      }
    },
    {
      "cell_type": "code",
      "execution_count": 1,
      "metadata": {
        "colab": {
          "base_uri": "https://localhost:8080/"
        },
        "id": "bKdVZtMAhr0g",
        "outputId": "24690443-e01c-43f3-ce71-9656f35a9110"
      },
      "outputs": [
        {
          "output_type": "stream",
          "name": "stdout",
          "text": [
            "Enter Hours: 2\n",
            "Enter Rate: 12\n",
            "Your Gross pay is:  24.0\n"
          ]
        }
      ],
      "source": [
        "def gross_pay_calculation(hrs, rate):\n",
        "    return hrs * rate\n",
        "\n",
        "num1 = float(input(\"Enter Hours: \"))\n",
        "num2 = float(input(\"Enter Rate: \"))\n",
        "\n",
        "Salary = gross_pay_calculation(num1, num2)\n",
        "print(\"Your Gross pay is: \", Salary)\n"
      ]
    },
    {
      "cell_type": "markdown",
      "source": [
        "# **2. Temperature Conversion**"
      ],
      "metadata": {
        "id": "pBYgZk_XiCK3"
      }
    },
    {
      "cell_type": "code",
      "source": [
        "temp_Celcuis = float (input(\"\\nEnter your temperature in Celcuis: \"))\n",
        "\n",
        "formula = temp_Celcuis * 1.8 + 32\n",
        "\n",
        "print (\"\\nThe temperature in Farhenhiet is: \", formula)\n",
        "print (\"\")"
      ],
      "metadata": {
        "colab": {
          "base_uri": "https://localhost:8080/"
        },
        "id": "Xxk_YrRTiJ-F",
        "outputId": "ed92fa7d-b06b-41a2-f0f4-46542c058edf"
      },
      "execution_count": 2,
      "outputs": [
        {
          "output_type": "stream",
          "name": "stdout",
          "text": [
            "\n",
            "Enter your temperature in Celcuis: 24\n",
            "\n",
            "The temperature in Farhenhiet is:  75.2\n",
            "\n"
          ]
        }
      ]
    },
    {
      "cell_type": "markdown",
      "source": [
        "# **3. Number Sign Check**"
      ],
      "metadata": {
        "id": "YqwV9bFWiMnQ"
      }
    },
    {
      "cell_type": "code",
      "source": [
        "num = float (input (\"Enter a number: \"))\n",
        "\n",
        "if num < 0:\n",
        "    print (\"The number is negative\")\n",
        "\n",
        "if num > 0:\n",
        "    print (\"The numebr is Positive\")\n",
        "\n",
        "if num == 0:\n",
        "    print (\"The number is zero\")"
      ],
      "metadata": {
        "colab": {
          "base_uri": "https://localhost:8080/"
        },
        "id": "1av8aR_oiWFl",
        "outputId": "c413716a-5403-4c37-85b9-6ce21be90f5e"
      },
      "execution_count": 4,
      "outputs": [
        {
          "output_type": "stream",
          "name": "stdout",
          "text": [
            "Enter a number: 2\n",
            "The numebr is Positive\n"
          ]
        }
      ]
    },
    {
      "cell_type": "markdown",
      "source": [
        "# **4. Leap Year Check**"
      ],
      "metadata": {
        "id": "GO-UDE8HiYnN"
      }
    },
    {
      "cell_type": "code",
      "source": [
        "def Leap_year(year):\n",
        "    if (year % 4 == 0):\n",
        "        if (year % 100 == 0):\n",
        "            if (year % 400 == 0):\n",
        "                return True\n",
        "            else:\n",
        "                return False\n",
        "        else:\n",
        "            return True\n",
        "    else:\n",
        "        return False\n",
        "\n",
        "year = int(input(\"Enter a year: \"))\n",
        "\n",
        "if Leap_year(year):\n",
        "    print(f\"{year} is a leap year.\")\n",
        "else:\n",
        "    print(f\"{year} is not a leap year.\")\n"
      ],
      "metadata": {
        "colab": {
          "base_uri": "https://localhost:8080/"
        },
        "id": "rtT4aihVijpM",
        "outputId": "982955c9-c0cb-4c54-b2bb-3dcd639e670d"
      },
      "execution_count": 5,
      "outputs": [
        {
          "output_type": "stream",
          "name": "stdout",
          "text": [
            "Enter a year: 2024\n",
            "2024 is a leap year.\n"
          ]
        }
      ]
    },
    {
      "cell_type": "markdown",
      "source": [
        "# **5. Arithmatic Operator**"
      ],
      "metadata": {
        "id": "z5JwjJDeilYc"
      }
    },
    {
      "cell_type": "code",
      "source": [
        "def calc_ops(n1, n2):\n",
        "    sum_res = n1 + n2\n",
        "    diff_res = n1 - n2\n",
        "    prod_res = n1 * n2\n",
        "    quot_res = n1 / n2 if n2 != 0 else 'undefined'\n",
        "\n",
        "    return sum_res, diff_res, prod_res, quot_res\n",
        "\n",
        "num1 = float(input(\"Enter the first number: \"))\n",
        "num2 = float(input(\"Enter the second number: \"))\n",
        "\n",
        "sum_res, diff_res, prod_res, quot_res = calc_ops(num1, num2)\n",
        "\n",
        "print(f\"The sum is: {sum_res}\")\n",
        "print(f\"The difference is: {diff_res}\")\n",
        "print(f\"The product is: {prod_res}\")\n",
        "print(f\"The quotient is: {quot_res}\")\n"
      ],
      "metadata": {
        "colab": {
          "base_uri": "https://localhost:8080/"
        },
        "id": "0JGJknFgirT7",
        "outputId": "46c9a633-4bb9-4be7-b56f-5d3dcdcb64ee"
      },
      "execution_count": 6,
      "outputs": [
        {
          "output_type": "stream",
          "name": "stdout",
          "text": [
            "Enter the first number: 2\n",
            "Enter the second number: 5\n",
            "The sum is: 7.0\n",
            "The difference is: -3.0\n",
            "The product is: 10.0\n",
            "The quotient is: 0.4\n"
          ]
        }
      ]
    },
    {
      "cell_type": "markdown",
      "source": [
        "# **5. Factorial**"
      ],
      "metadata": {
        "id": "r_n_T6NMitqf"
      }
    },
    {
      "cell_type": "code",
      "source": [
        "def fact(n):\n",
        "    if n == 0 or n == 1:\n",
        "        return 1\n",
        "    f = 1\n",
        "    for i in range(2, n + 1):\n",
        "        f *= i\n",
        "    return f\n",
        "\n",
        "num = int(input(\"Enter a number: \"))\n",
        "result = fact(num)\n",
        "print(f\"The factorial of {num} is: {result}\")\n"
      ],
      "metadata": {
        "colab": {
          "base_uri": "https://localhost:8080/"
        },
        "id": "x_C8_HCfi2MK",
        "outputId": "a3ed30cf-00bd-4dfb-a8ba-b50e1e60b0b5"
      },
      "execution_count": 7,
      "outputs": [
        {
          "output_type": "stream",
          "name": "stdout",
          "text": [
            "Enter a number: 3\n",
            "The factorial of 3 is: 6\n"
          ]
        }
      ]
    },
    {
      "cell_type": "markdown",
      "source": [
        "# **7. Reverse String**"
      ],
      "metadata": {
        "id": "BciNKxBoi3ib"
      }
    },
    {
      "cell_type": "code",
      "source": [
        "s = input(\"Enter a string: \")\n",
        "\n",
        "s_rev = s[::-1]\n",
        "\n",
        "print(s_rev)\n"
      ],
      "metadata": {
        "colab": {
          "base_uri": "https://localhost:8080/"
        },
        "id": "N7qZFkoJi804",
        "outputId": "856e0061-a143-4172-8720-9b056d0fefb5"
      },
      "execution_count": 8,
      "outputs": [
        {
          "output_type": "stream",
          "name": "stdout",
          "text": [
            "Enter a string: Abdul Moiz Arsalan\n",
            "nalasrA zioM ludbA\n"
          ]
        }
      ]
    },
    {
      "cell_type": "markdown",
      "source": [
        "# **8. Multiplications**"
      ],
      "metadata": {
        "id": "8vYheQU4jAju"
      }
    },
    {
      "cell_type": "code",
      "source": [
        "num1 = float(input(\"Enter the first number: \"))\n",
        "\n",
        "num2 = float(input(\"Enter the second number: \"))\n",
        "\n",
        "product = num1 * num2\n",
        "\n",
        "print(\"THe product of two number is: \", product)\n"
      ],
      "metadata": {
        "colab": {
          "base_uri": "https://localhost:8080/"
        },
        "id": "72Aq8Tb5jJc1",
        "outputId": "6f7143ca-5160-4391-9183-576f29e73f77"
      },
      "execution_count": 9,
      "outputs": [
        {
          "output_type": "stream",
          "name": "stdout",
          "text": [
            "Enter the first number: 5\n",
            "Enter the second number: 6\n",
            "THe product of two number is:  30.0\n"
          ]
        }
      ]
    },
    {
      "cell_type": "markdown",
      "source": [
        "# **9. Square Root**"
      ],
      "metadata": {
        "id": "CyRdCs3ejMSf"
      }
    },
    {
      "cell_type": "code",
      "source": [
        "num = float(input(\"Enter a number: \"))\n",
        "\n",
        "square = num ** 2\n",
        "\n",
        "print (\"The square of the number is: \", square)\n"
      ],
      "metadata": {
        "colab": {
          "base_uri": "https://localhost:8080/"
        },
        "id": "mHeiyBlijQ9w",
        "outputId": "c4a9dd21-dc9f-4cf3-8cf2-ceb1eded4a1e"
      },
      "execution_count": 10,
      "outputs": [
        {
          "output_type": "stream",
          "name": "stdout",
          "text": [
            "Enter a number: 6\n",
            "The square of the number is:  36.0\n"
          ]
        }
      ]
    },
    {
      "cell_type": "markdown",
      "source": [
        "# **10. Division**"
      ],
      "metadata": {
        "id": "dyEBp_ocjTdq"
      }
    },
    {
      "cell_type": "code",
      "source": [
        "num1 = float(input(\"Enter the 1st Number: \"))\n",
        "num2 = float(input(\"Enter the 2nd Number: \"))\n",
        "\n",
        "if num2 != 0:\n",
        "    quotient = num1 / num2\n",
        "    print (\"The quotient is: \", quotient)\n",
        "\n",
        "else:\n",
        "    print(\"Division by zero is undefined.\")\n"
      ],
      "metadata": {
        "colab": {
          "base_uri": "https://localhost:8080/"
        },
        "id": "TOaoFP0TjXUZ",
        "outputId": "70026956-598b-4272-cc46-c6395f2a4016"
      },
      "execution_count": 11,
      "outputs": [
        {
          "output_type": "stream",
          "name": "stdout",
          "text": [
            "Enter the 1st Number: 10\n",
            "Enter the 2nd Number: 2\n",
            "The quotient is:  5.0\n"
          ]
        }
      ]
    }
  ]
}