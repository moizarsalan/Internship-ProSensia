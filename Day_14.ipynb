{
  "nbformat": 4,
  "nbformat_minor": 0,
  "metadata": {
    "colab": {
      "provenance": [],
      "authorship_tag": "ABX9TyPQvLDhsauZdXrDqzwH7jJA",
      "include_colab_link": true
    },
    "kernelspec": {
      "name": "python3",
      "display_name": "Python 3"
    },
    "language_info": {
      "name": "python"
    }
  },
  "cells": [
    {
      "cell_type": "markdown",
      "metadata": {
        "id": "view-in-github",
        "colab_type": "text"
      },
      "source": [
        "<a href=\"https://colab.research.google.com/github/moizarsalan/Internship-ProSensia/blob/main/Day_14.ipynb\" target=\"_parent\"><img src=\"https://colab.research.google.com/assets/colab-badge.svg\" alt=\"Open In Colab\"/></a>"
      ]
    },
    {
      "cell_type": "markdown",
      "source": [
        "# **Complex Number Conversion and Operations:**"
      ],
      "metadata": {
        "id": "lRLLOHuRQOkc"
      }
    },
    {
      "cell_type": "code",
      "execution_count": 1,
      "metadata": {
        "id": "udOj9t93MA5Q"
      },
      "outputs": [],
      "source": [
        "def complex_operations(c1: str, c2: str):\n",
        "    c1_complex = complex(c1)\n",
        "    c2_complex = complex(c2)\n",
        "    addition = c1_complex + c2_complex\n",
        "    subtraction = c1_complex - c2_complex\n",
        "    multiplication = c1_complex * c2_complex\n",
        "    division = c1_complex / c2_complex if c2_complex != 0 else None\n",
        "    return addition, subtraction, multiplication, division"
      ]
    },
    {
      "cell_type": "markdown",
      "source": [
        "# **Binary String to Integer and back**"
      ],
      "metadata": {
        "id": "DtQnD6nKQTsT"
      }
    },
    {
      "cell_type": "code",
      "source": [
        "def bin_str_con(binary_str: str, length: int):\n",
        "    int_val = int(binary_str, 2)\n",
        "    binary_str_back = format(int_val, f'0{length}b')\n",
        "    return int_val, binary_str_back"
      ],
      "metadata": {
        "id": "-tjzRCe2Qf1K"
      },
      "execution_count": 3,
      "outputs": []
    },
    {
      "cell_type": "markdown",
      "source": [
        "# **Directory to JSON string and back with error handling**"
      ],
      "metadata": {
        "id": "8HwzePX6Qv03"
      }
    },
    {
      "cell_type": "code",
      "source": [
        "import json\n",
        "import logging\n",
        "\n",
        "def dict_to_json_and_back(dictionary):\n",
        "    try:\n",
        "        json_str = json.dumps(dictionary)\n",
        "        converted_back = json.loads(json_str)\n",
        "        return converted_back\n",
        "    except (TypeError, json.JSONDecodeError) as e:\n",
        "        logging.error(f\"Conversion failed: {e}\")\n",
        "        return dictionary, str(e)"
      ],
      "metadata": {
        "id": "iveASCwbQ5dV"
      },
      "execution_count": 6,
      "outputs": []
    },
    {
      "cell_type": "markdown",
      "source": [
        "# **Matrix Addition with Type and Dimension Enforcements**"
      ],
      "metadata": {
        "id": "2_iTacCOQ8ET"
      }
    },
    {
      "cell_type": "code",
      "source": [
        "class DimMismatchError(Exception):\n",
        "    pass\n",
        "\n",
        "class InvalidMatrixError(Exception):\n",
        "    pass\n",
        "\n",
        "def matrix_add(m1, m2):\n",
        "    if not m1 or not m2:\n",
        "        raise InvalidMatrixError(\"One or both matrices are empty\")\n",
        "\n",
        "    rows = len(m1)\n",
        "    cols = len(m1[0])\n",
        "\n",
        "    if rows != len(m2) or cols != len(m2[0]):\n",
        "        raise DimMismatchError(\"Matrices are not of the same dimensions\")\n",
        "\n",
        "    res = []\n",
        "    for i in range(rows):\n",
        "        row = []\n",
        "        for j in range(cols):\n",
        "            if not isinstance(m1[i][j], (int, float)) or not isinstance(m2[i][j], (int, float)):\n",
        "                raise InvalidMatrixError(\"Matrices contain non-numeric values\")\n",
        "            row.append(m1[i][j] + m2[i][j])\n",
        "        res.append(row)\n",
        "\n",
        "    return res\n",
        "\n",
        "# Example usage:\n",
        "m1 = [[1, 2], [3, 4]]\n",
        "m2 = [[5, 6], [7, 8]]\n",
        "print(matrix_add(m1, m2))\n"
      ],
      "metadata": {
        "colab": {
          "base_uri": "https://localhost:8080/"
        },
        "id": "ECTd2CPdREnS",
        "outputId": "3dfa0da9-c46d-4784-e4d0-cec79c7ebefe"
      },
      "execution_count": 5,
      "outputs": [
        {
          "output_type": "stream",
          "name": "stdout",
          "text": [
            "[[6, 8], [10, 12]]\n"
          ]
        }
      ]
    },
    {
      "cell_type": "markdown",
      "source": [
        "# **Prime Factorization with Cumulative Multiplication:**"
      ],
      "metadata": {
        "id": "KTTJhjRtRYHw"
      }
    },
    {
      "cell_type": "code",
      "source": [
        "def prime_factors(n):\n",
        "    i = 2\n",
        "    factors = []\n",
        "    while i * i <= n:\n",
        "        if n % i:\n",
        "            i += 1\n",
        "        else:\n",
        "            n //= i\n",
        "            factors.append(i)\n",
        "    if n > 1:\n",
        "        factors.append(n)\n",
        "\n",
        "    cum_prod = 1\n",
        "    for f in factors:\n",
        "        cum_prod *= f\n",
        "\n",
        "    return factors, cum_prod\n",
        "\n",
        "# Example usage:\n",
        "print(prime_factors(28))\n"
      ],
      "metadata": {
        "colab": {
          "base_uri": "https://localhost:8080/"
        },
        "id": "bNt93On4Rbz4",
        "outputId": "b27c4a9b-da6d-422b-c1a4-3144aaf9d686"
      },
      "execution_count": 7,
      "outputs": [
        {
          "output_type": "stream",
          "name": "stdout",
          "text": [
            "([2, 2, 7], 28)\n"
          ]
        }
      ]
    },
    {
      "cell_type": "markdown",
      "source": [
        "# **Formatted String Interpolation with Custom Placeholders:**"
      ],
      "metadata": {
        "id": "wSVGZskZRfqK"
      }
    },
    {
      "cell_type": "code",
      "source": [
        "def interpolate(template, values):\n",
        "    res = template\n",
        "    for k, v in values.items():\n",
        "        placeholder = f\"{{{k}}}\"\n",
        "        res = res.replace(placeholder, str(v))\n",
        "    return res\n",
        "\n",
        "# Example usage:\n",
        "template = \"Hello, my name is {name} and I am {age} years old.\"\n",
        "values = {\"name\": \"Abdul Moiz Arsalan\", \"age\": 21}\n",
        "print(interpolate(template, values))"
      ],
      "metadata": {
        "colab": {
          "base_uri": "https://localhost:8080/"
        },
        "id": "V4vBc8vjRmPk",
        "outputId": "6c00f58b-77fd-4848-9766-657da12ddec4"
      },
      "execution_count": 9,
      "outputs": [
        {
          "output_type": "stream",
          "name": "stdout",
          "text": [
            "Hello, my name is Abdul Moiz Arsalan and I am 21 years old.\n"
          ]
        }
      ]
    },
    {
      "cell_type": "markdown",
      "source": [
        "# **Advanced Anagram Check with Frequency Analysis**"
      ],
      "metadata": {
        "id": "1fCyreMASY-m"
      }
    },
    {
      "cell_type": "code",
      "source": [
        "import re\n",
        "from collections import Counter\n",
        "\n",
        "def clean_str(s):\n",
        "    return re.sub(r'[^A-Za-z0-9]', '', s).lower()\n",
        "\n",
        "def anagram_check(s1, s2):\n",
        "    clean_s1 = clean_str(s1)\n",
        "    clean_s2 = clean_str(s2)\n",
        "\n",
        "    count1 = Counter(clean_s1)\n",
        "    count2 = Counter(clean_s2)\n",
        "\n",
        "    return count1 == count2, {\"str1\": dict(count1), \"str2\": dict(count2)}\n",
        "\n",
        "# Example usage:\n",
        "print(anagram_check(\"Listen!\", \"Silent!\"))\n"
      ],
      "metadata": {
        "colab": {
          "base_uri": "https://localhost:8080/"
        },
        "id": "_ex90uJBSdAJ",
        "outputId": "8f973575-d64e-4eb2-c4eb-bfae61e27272"
      },
      "execution_count": 10,
      "outputs": [
        {
          "output_type": "stream",
          "name": "stdout",
          "text": [
            "(True, {'str1': {'l': 1, 'i': 1, 's': 1, 't': 1, 'e': 1, 'n': 1}, 'str2': {'s': 1, 'i': 1, 'l': 1, 'e': 1, 'n': 1, 't': 1}})\n"
          ]
        }
      ]
    },
    {
      "cell_type": "markdown",
      "source": [
        "# **Nested Data Structure Flattening with Type Preservation:**"
      ],
      "metadata": {
        "id": "2K5dBin6ShHq"
      }
    },
    {
      "cell_type": "code",
      "source": [
        "def flatten(nested):\n",
        "    flat = []\n",
        "    max_depth = [0]\n",
        "\n",
        "    def flatten_helper(sublist, depth):\n",
        "        if isinstance(sublist, list):\n",
        "            max_depth[0] = max(max_depth[0], depth)\n",
        "            for item in sublist:\n",
        "                flatten_helper(item, depth + 1)\n",
        "        else:\n",
        "            flat.append(sublist)\n",
        "\n",
        "    flatten_helper(nested, 1)\n",
        "    return flat, max_depth[0]\n",
        "\n",
        "# Example usage:\n",
        "nested = [1, [2, [3, [4]], 5]]\n",
        "print(flatten(nested))\n"
      ],
      "metadata": {
        "colab": {
          "base_uri": "https://localhost:8080/"
        },
        "id": "9tII8gz4Sjh2",
        "outputId": "fb9fabf7-13aa-417f-a6ef-3fcbcf0fa7e1"
      },
      "execution_count": 11,
      "outputs": [
        {
          "output_type": "stream",
          "name": "stdout",
          "text": [
            "([1, 2, 3, 4, 5], 4)\n"
          ]
        }
      ]
    },
    {
      "cell_type": "markdown",
      "source": [
        "# **String and Number Pattern Matching:**"
      ],
      "metadata": {
        "id": "zubOY4ODSm0p"
      }
    },
    {
      "cell_type": "code",
      "source": [
        "import re\n",
        "\n",
        "def match_pattern(s, pattern):\n",
        "    regex = ''\n",
        "    for char in pattern:\n",
        "        if char.isalpha():\n",
        "            regex += '[a-zA-Z]'\n",
        "        elif char.isdigit():\n",
        "            regex += '[0-9]'\n",
        "        else:\n",
        "            return False\n",
        "    return bool(re.fullmatch(regex, s))\n",
        "\n",
        "# Example usage:\n",
        "print(match_pattern(\"a1b2\", \"a1b2\"))\n",
        "print(match_pattern(\"abc123\", \"a3b1c2\"))"
      ],
      "metadata": {
        "colab": {
          "base_uri": "https://localhost:8080/"
        },
        "id": "g1Eux_wySruq",
        "outputId": "6308f2c5-9cbb-4174-e18a-005af03db563"
      },
      "execution_count": 12,
      "outputs": [
        {
          "output_type": "stream",
          "name": "stdout",
          "text": [
            "True\n",
            "False\n"
          ]
        }
      ]
    },
    {
      "cell_type": "markdown",
      "source": [
        "# **Data Normalization and Statistical Analysis:**"
      ],
      "metadata": {
        "id": "_RjYghvmSund"
      }
    },
    {
      "cell_type": "code",
      "source": [
        "import statistics\n",
        "\n",
        "class NonNumericValueError(Exception):\n",
        "    pass\n",
        "\n",
        "def normalize_and_analyze(data):\n",
        "    if not data:\n",
        "        raise ValueError(\"Input list is empty\")\n",
        "\n",
        "    if not all(isinstance(i, (int, float)) for i in data):\n",
        "        raise NonNumericValueError(\"Input list contains non-numeric values\")\n",
        "\n",
        "    min_val = min(data)\n",
        "    max_val = max(data)\n",
        "    range_val = max_val - min_val\n",
        "\n",
        "    normalized = [(x - min_val) / range_val for x in data]\n",
        "\n",
        "    mean = statistics.mean(normalized)\n",
        "    median = statistics.median(normalized)\n",
        "    variance = statistics.variance(normalized)\n",
        "\n",
        "    return normalized, {\"mean\": mean, \"median\": median, \"variance\": variance}\n",
        "\n",
        "# Example usage:\n",
        "data = [10, 20, 30, 40, 50]\n",
        "print(normalize_and_analyze(data))"
      ],
      "metadata": {
        "colab": {
          "base_uri": "https://localhost:8080/"
        },
        "id": "_Mcd_yPuSyrQ",
        "outputId": "b1a27fba-aa89-4bab-b1bf-3bf6d970e156"
      },
      "execution_count": 13,
      "outputs": [
        {
          "output_type": "stream",
          "name": "stdout",
          "text": [
            "([0.0, 0.25, 0.5, 0.75, 1.0], {'mean': 0.5, 'median': 0.5, 'variance': 0.15625})\n"
          ]
        }
      ]
    }
  ]
}