{
  "nbformat": 4,
  "nbformat_minor": 0,
  "metadata": {
    "colab": {
      "provenance": [],
      "authorship_tag": "ABX9TyM+N+8ZEhktvgtXBEjVBJ0u",
      "include_colab_link": true
    },
    "kernelspec": {
      "name": "python3",
      "display_name": "Python 3"
    },
    "language_info": {
      "name": "python"
    }
  },
  "cells": [
    {
      "cell_type": "markdown",
      "metadata": {
        "id": "view-in-github",
        "colab_type": "text"
      },
      "source": [
        "<a href=\"https://colab.research.google.com/github/moizarsalan/Internship-ProSensia/blob/main/Day_15.ipynb\" target=\"_parent\"><img src=\"https://colab.research.google.com/assets/colab-badge.svg\" alt=\"Open In Colab\"/></a>"
      ]
    },
    {
      "cell_type": "markdown",
      "source": [
        "# **Complex Number Arithmetic with Error Handling:**"
      ],
      "metadata": {
        "id": "bJH-fWSNTuML"
      }
    },
    {
      "cell_type": "code",
      "execution_count": 1,
      "metadata": {
        "colab": {
          "base_uri": "https://localhost:8080/"
        },
        "id": "f-wmj5j2TJ_3",
        "outputId": "d24baa49-96b3-4099-918e-225829e2fc92"
      },
      "outputs": [
        {
          "output_type": "stream",
          "name": "stdout",
          "text": [
            "((4+6j), (-2-2j), (-5+10j), (0.44+0.08j))\n"
          ]
        }
      ],
      "source": [
        "def complex_ops(c1, c2):\n",
        "    try:\n",
        "        z1, z2 = complex(*c1), complex(*c2)\n",
        "        add, sub, mul, div = z1 + z2, z1 - z2, z1 * z2, z1 / z2\n",
        "        return add, sub, mul, div\n",
        "    except ZeroDivisionError:\n",
        "        return \"Error: Division by zero\"\n",
        "    except ValueError:\n",
        "        return \"Error: Invalid input\"\n",
        "\n",
        "# Example usage:\n",
        "print(complex_ops((1, 2), (3, 4)))"
      ]
    },
    {
      "cell_type": "markdown",
      "source": [
        "# **Conditional Polynomial Evaluation with Multiple Conditions:**"
      ],
      "metadata": {
        "id": "xZT9kOPxT0mj"
      }
    },
    {
      "cell_type": "code",
      "source": [
        "def poly_eval(coeffs, x):\n",
        "    if not isinstance(coeffs, list) or not coeffs:\n",
        "        return \"Error: Invalid coeffs\"\n",
        "\n",
        "    deg, res = len(coeffs) - 1, 0\n",
        "    for i, c in enumerate(coeffs):\n",
        "        res += c * (x ** (deg - i))\n",
        "    return res\n",
        "\n",
        "# Example usage:\n",
        "print(poly_eval([1, 0, -3, 2], 2))  # Quadratic: x^2 - 3x + 2"
      ],
      "metadata": {
        "colab": {
          "base_uri": "https://localhost:8080/"
        },
        "id": "-p_DsnrbT5Wl",
        "outputId": "1226ab4d-9196-4265-f3eb-9b0eddc04021"
      },
      "execution_count": 2,
      "outputs": [
        {
          "output_type": "stream",
          "name": "stdout",
          "text": [
            "4\n"
          ]
        }
      ]
    },
    {
      "cell_type": "markdown",
      "source": [
        "# **Recursive Fibonacci with Depth Limitation:**"
      ],
      "metadata": {
        "id": "dPTeTDaWT8Qf"
      }
    },
    {
      "cell_type": "code",
      "source": [
        "def fib(n, d=0, max_d=20):\n",
        "    if d > max_d:\n",
        "        return \"Depth limit reached\"\n",
        "    if n <= 0:\n",
        "        return 0\n",
        "    if n == 1:\n",
        "        return 1\n",
        "    return fib(n-1, d+1, max_d) + fib(n-2, d+1, max_d)\n",
        "\n",
        "# Example usage:\n",
        "print(fib(10, max_d=10))"
      ],
      "metadata": {
        "colab": {
          "base_uri": "https://localhost:8080/"
        },
        "id": "VpOxSwyvUAwk",
        "outputId": "3a822884-587e-4851-bfb1-1b059da72e7e"
      },
      "execution_count": 3,
      "outputs": [
        {
          "output_type": "stream",
          "name": "stdout",
          "text": [
            "55\n"
          ]
        }
      ]
    },
    {
      "cell_type": "markdown",
      "source": [
        "# **Higher-order Functions for Adaptive Integration:**"
      ],
      "metadata": {
        "id": "nBVhkD7cUD5P"
      }
    },
    {
      "cell_type": "code",
      "source": [
        "def adapt_integrate(f, a, b, tol=1e-5):\n",
        "    def integrate(f, a, b, fa, fb, area, tol):\n",
        "        c = (a + b) / 2\n",
        "        fc = f(c)\n",
        "        la, ra = (fa + fc) * (c - a) / 2, (fc + fb) * (b - c) / 2\n",
        "        new_area = la + ra\n",
        "\n",
        "        if abs(new_area - area) <= tol:\n",
        "            return new_area\n",
        "        return (integrate(f, a, c, fa, fc, la, tol/2) +\n",
        "                integrate(f, c, b, fc, fb, ra, tol/2))\n",
        "\n",
        "    fa, fb = f(a), f(b)\n",
        "    initial_area = (fa + fb) * (b - a) / 2\n",
        "    return integrate(f, a, b, fa, fb, initial_area, tol)\n",
        "\n",
        "# Example usage:\n",
        "print(adapt_integrate(lambda x: x**2, 0, 1))"
      ],
      "metadata": {
        "colab": {
          "base_uri": "https://localhost:8080/"
        },
        "id": "RI7qSbuTUNUx",
        "outputId": "ee18c1f3-eb30-4054-bde4-470110930158"
      },
      "execution_count": 4,
      "outputs": [
        {
          "output_type": "stream",
          "name": "stdout",
          "text": [
            "0.33333587646484375\n"
          ]
        }
      ]
    },
    {
      "cell_type": "markdown",
      "source": [
        "# **Optimized Prime Number Generator with Caching:**"
      ],
      "metadata": {
        "id": "hQayZIuiULod"
      }
    },
    {
      "cell_type": "code",
      "source": [
        "def prime_gen(limit):\n",
        "    primes, sieve = [], [True] * (limit + 1)\n",
        "    sieve[0:2] = [False, False]  # 0 and 1 are not primes\n",
        "\n",
        "    for num in range(2, limit + 1):\n",
        "        if sieve[num]:\n",
        "            primes.append(num)\n",
        "            for mult in range(num * num, limit + 1, num):\n",
        "                sieve[mult] = False\n",
        "\n",
        "    return primes\n",
        "\n",
        "# Example usage:\n",
        "print(prime_gen(30))"
      ],
      "metadata": {
        "colab": {
          "base_uri": "https://localhost:8080/"
        },
        "id": "za84mQXKUSrm",
        "outputId": "e2868cb5-6c16-4ee8-d12f-c07f46519cb6"
      },
      "execution_count": 5,
      "outputs": [
        {
          "output_type": "stream",
          "name": "stdout",
          "text": [
            "[2, 3, 5, 7, 11, 13, 17, 19, 23, 29]\n"
          ]
        }
      ]
    },
    {
      "cell_type": "markdown",
      "source": [
        "# **Memoized Fibonacci Sequence with Iterative Fallback:**"
      ],
      "metadata": {
        "id": "n6uYwbY-UfBX"
      }
    },
    {
      "cell_type": "code",
      "source": [
        "def memo_fib(n, memo={}, limit=100):\n",
        "    if n in memo:\n",
        "        return memo[n]\n",
        "    if n <= 0:\n",
        "        return 0\n",
        "    if n == 1:\n",
        "        return 1\n",
        "    if len(memo) > limit:\n",
        "        return iter_fib(n)\n",
        "\n",
        "    memo[n] = memo_fib(n-1, memo) + memo_fib(n-2, memo)\n",
        "    return memo[n]\n",
        "\n",
        "def iter_fib(n):\n",
        "    a, b = 0, 1\n",
        "    for _ in range(2, n+1):\n",
        "        a, b = b, a + b\n",
        "    return b\n",
        "\n",
        "# Example usage:\n",
        "print(memo_fib(10))"
      ],
      "metadata": {
        "colab": {
          "base_uri": "https://localhost:8080/"
        },
        "id": "bKIfjrW_Unef",
        "outputId": "33539e17-5fbd-4e0c-f55d-d1371385f118"
      },
      "execution_count": 6,
      "outputs": [
        {
          "output_type": "stream",
          "name": "stdout",
          "text": [
            "55\n"
          ]
        }
      ]
    },
    {
      "cell_type": "markdown",
      "source": [
        "# **Regular Expression Based String Parsing:**"
      ],
      "metadata": {
        "id": "PxKwSD7JUtOd"
      }
    },
    {
      "cell_type": "code",
      "source": [
        "import re\n",
        "\n",
        "def extract_dates(s):\n",
        "    pattern = r'\\b\\d{4}[-/]\\d{2}[-/]\\d{2}\\b'\n",
        "    return re.findall(pattern, s)\n",
        "\n",
        "# Example usage:\n",
        "print(extract_dates(\"Dates: 2023-05-10, 2024/06/15, and 2025-07-20\"))"
      ],
      "metadata": {
        "colab": {
          "base_uri": "https://localhost:8080/"
        },
        "id": "3Eqz_W7qUvX1",
        "outputId": "f07a9d43-c878-48a0-e1a8-672fc2427d07"
      },
      "execution_count": 7,
      "outputs": [
        {
          "output_type": "stream",
          "name": "stdout",
          "text": [
            "['2023-05-10', '2024/06/15', '2025-07-20']\n"
          ]
        }
      ]
    },
    {
      "cell_type": "markdown",
      "source": [
        "# **Advanced String Transformation with Multiple Conditions:**"
      ],
      "metadata": {
        "id": "cUGFwHC2UyJO"
      }
    },
    {
      "cell_type": "code",
      "source": [
        "def transform_str(s):\n",
        "    digits = {'0': 'zero', '1': 'one', '2': 'two', '3': 'three', '4': 'four',\n",
        "              '5': 'five', '6': 'six', '7': 'seven', '8': 'eight', '9': 'nine'}\n",
        "\n",
        "    def replace_digits(w):\n",
        "        return ''.join(digits[c] if c.isdigit() else c for c in w)\n",
        "\n",
        "    words = s.split()\n",
        "    transformed = []\n",
        "    for w in words:\n",
        "        w = replace_digits(w)\n",
        "        if len(w) > 5:\n",
        "            w = w[::-1]\n",
        "        transformed.append(w)\n",
        "\n",
        "    return ' '.join(transformed).title()\n",
        "\n",
        "# Example usage:\n",
        "print(transform_str(\"The temperature is 42 degrees and it will be 37 tomorrow\"))\n"
      ],
      "metadata": {
        "colab": {
          "base_uri": "https://localhost:8080/"
        },
        "id": "G8_5sJpNU1In",
        "outputId": "e6392e93-5460-4fb4-bb3a-930fe165050f"
      },
      "execution_count": 8,
      "outputs": [
        {
          "output_type": "stream",
          "name": "stdout",
          "text": [
            "The Erutarepmet Is Owtruof Seerged And It Will Be Neveseerht Worromot\n"
          ]
        }
      ]
    },
    {
      "cell_type": "markdown",
      "source": [
        "# **Dynamic Expression Evaluator with Variable Substitution:**"
      ],
      "metadata": {
        "id": "s394X6OnVCFk"
      }
    },
    {
      "cell_type": "code",
      "source": [
        "def eval_expr(expr, vars):\n",
        "    try:\n",
        "        for var, val in vars.items():\n",
        "            expr = expr.replace(var, str(val))\n",
        "        return eval(expr)\n",
        "    except NameError as e:\n",
        "        return f\"Error: Undefined var ({e})\"\n",
        "    except Exception as e:\n",
        "        return f\"Error: Invalid expr ({e})\"\n",
        "\n",
        "# Example usage:\n",
        "print(eval_expr(\"a + b * c\", {'a': 2, 'b': 3, 'c': 4}))"
      ],
      "metadata": {
        "colab": {
          "base_uri": "https://localhost:8080/"
        },
        "id": "aTkpI1lqVDcX",
        "outputId": "fe9baa63-7a07-4bd2-cc41-1f3210a81344"
      },
      "execution_count": 9,
      "outputs": [
        {
          "output_type": "stream",
          "name": "stdout",
          "text": [
            "14\n"
          ]
        }
      ]
    },
    {
      "cell_type": "markdown",
      "source": [
        "# **Comprehensive Data Validator:**"
      ],
      "metadata": {
        "id": "DMf3_duTVLx0"
      }
    },
    {
      "cell_type": "code",
      "source": [
        "import re\n",
        "\n",
        "def validate_data(data):\n",
        "    report = []\n",
        "    email_pat = re.compile(r'^[a-zA-Z0-9._%+-]+@[a-zA-Z0-9.-]+\\.[a-zA-Z]{2,}$')\n",
        "    date_pat = re.compile(r'\\b\\d{4}[-/]\\d{2}[-/]\\d{2}\\b')\n",
        "\n",
        "    for entry in data:\n",
        "        entry_rep = {'entry': entry, 'len': False, 'alpha': False,\n",
        "                     'num': False, 'alphanum': False, 'email': False, 'date': False}\n",
        "\n",
        "        if len(entry) > 0:\n",
        "            entry_rep['len'] = True\n",
        "        if entry.isalpha():\n",
        "            entry_rep['alpha'] = True\n",
        "        if entry.isdigit():\n",
        "            entry_rep['num'] = True\n",
        "        if entry.isalnum():\n",
        "            entry_rep['alphanum'] = True\n",
        "        if email_pat.match(entry):\n",
        "            entry_rep['email'] = True\n",
        "        if date_pat.match(entry):\n",
        "            entry_rep['date'] = True\n",
        "\n",
        "        report.append(entry_rep)\n",
        "\n",
        "    return report\n",
        "\n",
        "# Example usage:\n",
        "data_entries = [\"test@example.com\", \"2023-05-10\", \"hello123\", \"12345\"]\n",
        "print(validate_data(data_entries))"
      ],
      "metadata": {
        "colab": {
          "base_uri": "https://localhost:8080/"
        },
        "id": "z5fwmE69VPoh",
        "outputId": "d220c859-ee36-44d4-eb8f-3f43ea93f3ff"
      },
      "execution_count": 10,
      "outputs": [
        {
          "output_type": "stream",
          "name": "stdout",
          "text": [
            "[{'entry': 'test@example.com', 'len': True, 'alpha': False, 'num': False, 'alphanum': False, 'email': True, 'date': False}, {'entry': '2023-05-10', 'len': True, 'alpha': False, 'num': False, 'alphanum': False, 'email': False, 'date': True}, {'entry': 'hello123', 'len': True, 'alpha': False, 'num': False, 'alphanum': True, 'email': False, 'date': False}, {'entry': '12345', 'len': True, 'alpha': False, 'num': True, 'alphanum': True, 'email': False, 'date': False}]\n"
          ]
        }
      ]
    }
  ]
}