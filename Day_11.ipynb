{
  "nbformat": 4,
  "nbformat_minor": 0,
  "metadata": {
    "colab": {
      "provenance": [],
      "authorship_tag": "ABX9TyNwlUgBgBs57k+RenKp/wJ8",
      "include_colab_link": true
    },
    "kernelspec": {
      "name": "python3",
      "display_name": "Python 3"
    },
    "language_info": {
      "name": "python"
    }
  },
  "cells": [
    {
      "cell_type": "markdown",
      "metadata": {
        "id": "view-in-github",
        "colab_type": "text"
      },
      "source": [
        "<a href=\"https://colab.research.google.com/github/moizarsalan/Internship-ProSensia/blob/main/Day_11.ipynb\" target=\"_parent\"><img src=\"https://colab.research.google.com/assets/colab-badge.svg\" alt=\"Open In Colab\"/></a>"
      ]
    },
    {
      "cell_type": "markdown",
      "source": [
        "# **Task 1: Convert String to Integer**"
      ],
      "metadata": {
        "id": "UzxgtGa5q4ip"
      }
    },
    {
      "cell_type": "code",
      "execution_count": null,
      "metadata": {
        "id": "mJbiMe1qqymp"
      },
      "outputs": [],
      "source": [
        "\n",
        "def str_to_int(s):\n",
        "    try:\n",
        "        return int(s)\n",
        "    except ValueError:\n",
        "        return None"
      ]
    },
    {
      "cell_type": "markdown",
      "source": [
        "# **Task 2: Convert Integer to String**"
      ],
      "metadata": {
        "id": "ULVIs1QLrBOB"
      }
    },
    {
      "cell_type": "code",
      "source": [
        "def int_to_str(n):\n",
        "    return str(n)"
      ],
      "metadata": {
        "id": "J2p9ns4mrFTc"
      },
      "execution_count": null,
      "outputs": []
    },
    {
      "cell_type": "markdown",
      "source": [
        "# **Task 3: Convert Float to Integer**"
      ],
      "metadata": {
        "id": "v--hcKflrIqq"
      }
    },
    {
      "cell_type": "code",
      "source": [
        "def float_to_int(f):\n",
        "    return int(f)\n"
      ],
      "metadata": {
        "id": "RmjXA-TdrMTg"
      },
      "execution_count": null,
      "outputs": []
    },
    {
      "cell_type": "markdown",
      "source": [
        "# **Task 4: Convert List of Strings to List of Integers**"
      ],
      "metadata": {
        "id": "juFJiMCBrOZ2"
      }
    },
    {
      "cell_type": "code",
      "source": [
        "def list_str_to_int(lst):\n",
        "    return [int(i) for i in lst if i.isdigit()]"
      ],
      "metadata": {
        "id": "-pMB7jq9rTwj"
      },
      "execution_count": null,
      "outputs": []
    },
    {
      "cell_type": "markdown",
      "source": [
        "# **Task 5: Addition, Subtraction, Multiplication and Division of Two Numbers**"
      ],
      "metadata": {
        "id": "uo_isaphrWvn"
      }
    },
    {
      "cell_type": "code",
      "source": [
        "a = float(input(\"Enter first number: \"))\n",
        "b = float(input(\"Enter second number: \"))\n",
        "\n",
        "add = a + b\n",
        "print(\"Addition:\", add)\n",
        "\n",
        "subtract = a - b\n",
        "print(\"Subtraction:\", subtract)\n",
        "\n",
        "multiply = a * b\n",
        "print(\"Multiplication:\", multiply)\n",
        "\n",
        "if b == 0:\n",
        "    divide = None\n",
        "else:\n",
        "    divide = a / b\n",
        "print(\"Division:\", divide)\n"
      ],
      "metadata": {
        "id": "61A6FO9WrbwY"
      },
      "execution_count": null,
      "outputs": []
    },
    {
      "cell_type": "markdown",
      "source": [
        "# **Task 9: Concatenate Two Strings**"
      ],
      "metadata": {
        "id": "4Q9o-TUdr9Oj"
      }
    },
    {
      "cell_type": "code",
      "source": [
        "def concat_str(s1, s2):\n",
        "    return s1 + s2"
      ],
      "metadata": {
        "id": "YyGF9d1YsGA-"
      },
      "execution_count": null,
      "outputs": []
    },
    {
      "cell_type": "markdown",
      "source": [
        "# **Task 10: Reverse a String**\n"
      ],
      "metadata": {
        "id": "0vIo-1Y9sJEH"
      }
    },
    {
      "cell_type": "code",
      "source": [
        "def reverse_str(s):\n",
        "    return s[::-1]"
      ],
      "metadata": {
        "id": "cOZLYLHwsRiU"
      },
      "execution_count": null,
      "outputs": []
    }
  ]
}